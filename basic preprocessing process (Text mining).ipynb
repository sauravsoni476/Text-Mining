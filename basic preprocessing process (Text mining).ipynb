{
 "cells": [
  {
   "cell_type": "code",
   "execution_count": 1,
   "metadata": {},
   "outputs": [],
   "source": [
    "import pandas as pd\n",
    "import numpy as np\n"
   ]
  },
  {
   "cell_type": "code",
   "execution_count": 2,
   "metadata": {},
   "outputs": [],
   "source": [
    "df = pd.read_csv(\"Elon_musk.csv\", encoding='cp1252')"
   ]
  },
  {
   "cell_type": "code",
   "execution_count": 3,
   "metadata": {},
   "outputs": [
    {
     "data": {
      "text/html": [
       "<div>\n",
       "<style scoped>\n",
       "    .dataframe tbody tr th:only-of-type {\n",
       "        vertical-align: middle;\n",
       "    }\n",
       "\n",
       "    .dataframe tbody tr th {\n",
       "        vertical-align: top;\n",
       "    }\n",
       "\n",
       "    .dataframe thead th {\n",
       "        text-align: right;\n",
       "    }\n",
       "</style>\n",
       "<table border=\"1\" class=\"dataframe\">\n",
       "  <thead>\n",
       "    <tr style=\"text-align: right;\">\n",
       "      <th></th>\n",
       "      <th>Unnamed: 0</th>\n",
       "      <th>Text</th>\n",
       "    </tr>\n",
       "  </thead>\n",
       "  <tbody>\n",
       "    <tr>\n",
       "      <th>0</th>\n",
       "      <td>1</td>\n",
       "      <td>@kunalb11 I’m an alien</td>\n",
       "    </tr>\n",
       "    <tr>\n",
       "      <th>1</th>\n",
       "      <td>2</td>\n",
       "      <td>@ Ray tracing on Cyberpunk with HDR is next-le...</td>\n",
       "    </tr>\n",
       "    <tr>\n",
       "      <th>2</th>\n",
       "      <td>3</td>\n",
       "      <td>@joerogan @Spotify Great interview!</td>\n",
       "    </tr>\n",
       "    <tr>\n",
       "      <th>3</th>\n",
       "      <td>4</td>\n",
       "      <td>@gtera27 Doge is underestimated</td>\n",
       "    </tr>\n",
       "    <tr>\n",
       "      <th>4</th>\n",
       "      <td>5</td>\n",
       "      <td>@teslacn Congratulations Tesla China for amazi...</td>\n",
       "    </tr>\n",
       "  </tbody>\n",
       "</table>\n",
       "</div>"
      ],
      "text/plain": [
       "   Unnamed: 0                                               Text\n",
       "0           1                             @kunalb11 I’m an alien\n",
       "1           2  @ Ray tracing on Cyberpunk with HDR is next-le...\n",
       "2           3                @joerogan @Spotify Great interview!\n",
       "3           4                    @gtera27 Doge is underestimated\n",
       "4           5  @teslacn Congratulations Tesla China for amazi..."
      ]
     },
     "execution_count": 3,
     "metadata": {},
     "output_type": "execute_result"
    }
   ],
   "source": [
    "df.head()"
   ]
  },
  {
   "cell_type": "code",
   "execution_count": 4,
   "metadata": {},
   "outputs": [
    {
     "data": {
      "text/html": [
       "<div>\n",
       "<style scoped>\n",
       "    .dataframe tbody tr th:only-of-type {\n",
       "        vertical-align: middle;\n",
       "    }\n",
       "\n",
       "    .dataframe tbody tr th {\n",
       "        vertical-align: top;\n",
       "    }\n",
       "\n",
       "    .dataframe thead th {\n",
       "        text-align: right;\n",
       "    }\n",
       "</style>\n",
       "<table border=\"1\" class=\"dataframe\">\n",
       "  <thead>\n",
       "    <tr style=\"text-align: right;\">\n",
       "      <th></th>\n",
       "      <th>Unnamed: 0</th>\n",
       "      <th>Text</th>\n",
       "    </tr>\n",
       "  </thead>\n",
       "  <tbody>\n",
       "    <tr>\n",
       "      <th>1994</th>\n",
       "      <td>1995</td>\n",
       "      <td>@flcnhvy True, it sounds so surreal, but the n...</td>\n",
       "    </tr>\n",
       "    <tr>\n",
       "      <th>1995</th>\n",
       "      <td>1996</td>\n",
       "      <td>@PPathole Make sure to read ur terms &amp;amp; con...</td>\n",
       "    </tr>\n",
       "    <tr>\n",
       "      <th>1996</th>\n",
       "      <td>1997</td>\n",
       "      <td>@TeslaGong @PPathole Samwise Gamgee</td>\n",
       "    </tr>\n",
       "    <tr>\n",
       "      <th>1997</th>\n",
       "      <td>1998</td>\n",
       "      <td>@PPathole Altho Dumb and Dumber is &lt;U+0001F525...</td>\n",
       "    </tr>\n",
       "    <tr>\n",
       "      <th>1998</th>\n",
       "      <td>1999</td>\n",
       "      <td>Progress update August 28</td>\n",
       "    </tr>\n",
       "  </tbody>\n",
       "</table>\n",
       "</div>"
      ],
      "text/plain": [
       "      Unnamed: 0                                               Text\n",
       "1994        1995  @flcnhvy True, it sounds so surreal, but the n...\n",
       "1995        1996  @PPathole Make sure to read ur terms &amp; con...\n",
       "1996        1997                @TeslaGong @PPathole Samwise Gamgee\n",
       "1997        1998  @PPathole Altho Dumb and Dumber is <U+0001F525...\n",
       "1998        1999                          Progress update August 28"
      ]
     },
     "execution_count": 4,
     "metadata": {},
     "output_type": "execute_result"
    }
   ],
   "source": [
    "df.tail()"
   ]
  },
  {
   "cell_type": "code",
   "execution_count": 5,
   "metadata": {},
   "outputs": [],
   "source": [
    "df.drop('Unnamed: 0',axis=1, inplace=True)"
   ]
  },
  {
   "cell_type": "code",
   "execution_count": 6,
   "metadata": {},
   "outputs": [
    {
     "data": {
      "text/html": [
       "<div>\n",
       "<style scoped>\n",
       "    .dataframe tbody tr th:only-of-type {\n",
       "        vertical-align: middle;\n",
       "    }\n",
       "\n",
       "    .dataframe tbody tr th {\n",
       "        vertical-align: top;\n",
       "    }\n",
       "\n",
       "    .dataframe thead th {\n",
       "        text-align: right;\n",
       "    }\n",
       "</style>\n",
       "<table border=\"1\" class=\"dataframe\">\n",
       "  <thead>\n",
       "    <tr style=\"text-align: right;\">\n",
       "      <th></th>\n",
       "      <th>Text</th>\n",
       "    </tr>\n",
       "  </thead>\n",
       "  <tbody>\n",
       "    <tr>\n",
       "      <th>0</th>\n",
       "      <td>@kunalb11 I’m an alien</td>\n",
       "    </tr>\n",
       "    <tr>\n",
       "      <th>1</th>\n",
       "      <td>@ Ray tracing on Cyberpunk with HDR is next-le...</td>\n",
       "    </tr>\n",
       "    <tr>\n",
       "      <th>2</th>\n",
       "      <td>@joerogan @Spotify Great interview!</td>\n",
       "    </tr>\n",
       "    <tr>\n",
       "      <th>3</th>\n",
       "      <td>@gtera27 Doge is underestimated</td>\n",
       "    </tr>\n",
       "    <tr>\n",
       "      <th>4</th>\n",
       "      <td>@teslacn Congratulations Tesla China for amazi...</td>\n",
       "    </tr>\n",
       "    <tr>\n",
       "      <th>...</th>\n",
       "      <td>...</td>\n",
       "    </tr>\n",
       "    <tr>\n",
       "      <th>1994</th>\n",
       "      <td>@flcnhvy True, it sounds so surreal, but the n...</td>\n",
       "    </tr>\n",
       "    <tr>\n",
       "      <th>1995</th>\n",
       "      <td>@PPathole Make sure to read ur terms &amp;amp; con...</td>\n",
       "    </tr>\n",
       "    <tr>\n",
       "      <th>1996</th>\n",
       "      <td>@TeslaGong @PPathole Samwise Gamgee</td>\n",
       "    </tr>\n",
       "    <tr>\n",
       "      <th>1997</th>\n",
       "      <td>@PPathole Altho Dumb and Dumber is &lt;U+0001F525...</td>\n",
       "    </tr>\n",
       "    <tr>\n",
       "      <th>1998</th>\n",
       "      <td>Progress update August 28</td>\n",
       "    </tr>\n",
       "  </tbody>\n",
       "</table>\n",
       "<p>1999 rows × 1 columns</p>\n",
       "</div>"
      ],
      "text/plain": [
       "                                                   Text\n",
       "0                                @kunalb11 I’m an alien\n",
       "1     @ Ray tracing on Cyberpunk with HDR is next-le...\n",
       "2                   @joerogan @Spotify Great interview!\n",
       "3                       @gtera27 Doge is underestimated\n",
       "4     @teslacn Congratulations Tesla China for amazi...\n",
       "...                                                 ...\n",
       "1994  @flcnhvy True, it sounds so surreal, but the n...\n",
       "1995  @PPathole Make sure to read ur terms &amp; con...\n",
       "1996                @TeslaGong @PPathole Samwise Gamgee\n",
       "1997  @PPathole Altho Dumb and Dumber is <U+0001F525...\n",
       "1998                          Progress update August 28\n",
       "\n",
       "[1999 rows x 1 columns]"
      ]
     },
     "execution_count": 6,
     "metadata": {},
     "output_type": "execute_result"
    }
   ],
   "source": [
    "df"
   ]
  },
  {
   "cell_type": "code",
   "execution_count": 7,
   "metadata": {},
   "outputs": [
    {
     "data": {
      "text/plain": [
       "Text    0\n",
       "dtype: int64"
      ]
     },
     "execution_count": 7,
     "metadata": {},
     "output_type": "execute_result"
    }
   ],
   "source": [
    "df.isnull().sum()"
   ]
  },
  {
   "cell_type": "code",
   "execution_count": 8,
   "metadata": {},
   "outputs": [
    {
     "data": {
      "text/plain": [
       "Text    0\n",
       "dtype: int64"
      ]
     },
     "execution_count": 8,
     "metadata": {},
     "output_type": "execute_result"
    }
   ],
   "source": [
    "df.isna().sum()"
   ]
  },
  {
   "cell_type": "markdown",
   "metadata": {},
   "source": [
    "## apply first level clining\n"
   ]
  },
  {
   "cell_type": "code",
   "execution_count": 9,
   "metadata": {},
   "outputs": [],
   "source": [
    "##A regular expression (or RE) specifies a set of strings that matches\n",
    "import re\n",
    "import string ## escape the different types of punctuation"
   ]
  },
  {
   "cell_type": "code",
   "execution_count": 10,
   "metadata": {},
   "outputs": [],
   "source": [
    "def text_clean(text):\n",
    "    text = text.lower()\n",
    "    text = re.sub(r\"@[A-Za-z0-9]+\", \"\", text) # Remove Mentions\n",
    "    text = re.sub(\"\\[.*?\\]\", '', text)\n",
    "    text = re.sub(\"[%s]\" % re.escape(string.punctuation), '', text)\n",
    "    text = re.sub(\"\\w*\\d\\w*\", '', text)\n",
    "    return text\n",
    "\n",
    "clean1 = lambda x: text_clean(x)"
   ]
  },
  {
   "cell_type": "code",
   "execution_count": 11,
   "metadata": {},
   "outputs": [
    {
     "data": {
      "text/plain": [
       "<function __main__.<lambda>(x)>"
      ]
     },
     "execution_count": 11,
     "metadata": {},
     "output_type": "execute_result"
    }
   ],
   "source": [
    "clean1"
   ]
  },
  {
   "cell_type": "code",
   "execution_count": 12,
   "metadata": {},
   "outputs": [],
   "source": [
    "## lets look the update text\n",
    "df[\"Cleaned text\"] = pd.DataFrame(df.Text.apply(clean1))"
   ]
  },
  {
   "cell_type": "code",
   "execution_count": 13,
   "metadata": {},
   "outputs": [
    {
     "data": {
      "text/html": [
       "<div>\n",
       "<style scoped>\n",
       "    .dataframe tbody tr th:only-of-type {\n",
       "        vertical-align: middle;\n",
       "    }\n",
       "\n",
       "    .dataframe tbody tr th {\n",
       "        vertical-align: top;\n",
       "    }\n",
       "\n",
       "    .dataframe thead th {\n",
       "        text-align: right;\n",
       "    }\n",
       "</style>\n",
       "<table border=\"1\" class=\"dataframe\">\n",
       "  <thead>\n",
       "    <tr style=\"text-align: right;\">\n",
       "      <th></th>\n",
       "      <th>Text</th>\n",
       "      <th>Cleaned text</th>\n",
       "    </tr>\n",
       "  </thead>\n",
       "  <tbody>\n",
       "    <tr>\n",
       "      <th>0</th>\n",
       "      <td>@kunalb11 I’m an alien</td>\n",
       "      <td>i’m an alien</td>\n",
       "    </tr>\n",
       "    <tr>\n",
       "      <th>1</th>\n",
       "      <td>@ Ray tracing on Cyberpunk with HDR is next-le...</td>\n",
       "      <td>ray tracing on cyberpunk with hdr is nextleve...</td>\n",
       "    </tr>\n",
       "    <tr>\n",
       "      <th>2</th>\n",
       "      <td>@joerogan @Spotify Great interview!</td>\n",
       "      <td>great interview</td>\n",
       "    </tr>\n",
       "    <tr>\n",
       "      <th>3</th>\n",
       "      <td>@gtera27 Doge is underestimated</td>\n",
       "      <td>doge is underestimated</td>\n",
       "    </tr>\n",
       "    <tr>\n",
       "      <th>4</th>\n",
       "      <td>@teslacn Congratulations Tesla China for amazi...</td>\n",
       "      <td>congratulations tesla china for amazing execu...</td>\n",
       "    </tr>\n",
       "    <tr>\n",
       "      <th>...</th>\n",
       "      <td>...</td>\n",
       "      <td>...</td>\n",
       "    </tr>\n",
       "    <tr>\n",
       "      <th>1994</th>\n",
       "      <td>@flcnhvy True, it sounds so surreal, but the n...</td>\n",
       "      <td>true it sounds so surreal but the negative pr...</td>\n",
       "    </tr>\n",
       "    <tr>\n",
       "      <th>1995</th>\n",
       "      <td>@PPathole Make sure to read ur terms &amp;amp; con...</td>\n",
       "      <td>make sure to read ur terms amp conditions bef...</td>\n",
       "    </tr>\n",
       "    <tr>\n",
       "      <th>1996</th>\n",
       "      <td>@TeslaGong @PPathole Samwise Gamgee</td>\n",
       "      <td>samwise gamgee</td>\n",
       "    </tr>\n",
       "    <tr>\n",
       "      <th>1997</th>\n",
       "      <td>@PPathole Altho Dumb and Dumber is &lt;U+0001F525...</td>\n",
       "      <td>altho dumb and dumber is</td>\n",
       "    </tr>\n",
       "    <tr>\n",
       "      <th>1998</th>\n",
       "      <td>Progress update August 28</td>\n",
       "      <td>progress update august</td>\n",
       "    </tr>\n",
       "  </tbody>\n",
       "</table>\n",
       "<p>1999 rows × 2 columns</p>\n",
       "</div>"
      ],
      "text/plain": [
       "                                                   Text  \\\n",
       "0                                @kunalb11 I’m an alien   \n",
       "1     @ Ray tracing on Cyberpunk with HDR is next-le...   \n",
       "2                   @joerogan @Spotify Great interview!   \n",
       "3                       @gtera27 Doge is underestimated   \n",
       "4     @teslacn Congratulations Tesla China for amazi...   \n",
       "...                                                 ...   \n",
       "1994  @flcnhvy True, it sounds so surreal, but the n...   \n",
       "1995  @PPathole Make sure to read ur terms &amp; con...   \n",
       "1996                @TeslaGong @PPathole Samwise Gamgee   \n",
       "1997  @PPathole Altho Dumb and Dumber is <U+0001F525...   \n",
       "1998                          Progress update August 28   \n",
       "\n",
       "                                           Cleaned text  \n",
       "0                                          i’m an alien  \n",
       "1      ray tracing on cyberpunk with hdr is nextleve...  \n",
       "2                                       great interview  \n",
       "3                                doge is underestimated  \n",
       "4      congratulations tesla china for amazing execu...  \n",
       "...                                                 ...  \n",
       "1994   true it sounds so surreal but the negative pr...  \n",
       "1995   make sure to read ur terms amp conditions bef...  \n",
       "1996                                     samwise gamgee  \n",
       "1997                          altho dumb and dumber is   \n",
       "1998                            progress update august   \n",
       "\n",
       "[1999 rows x 2 columns]"
      ]
     },
     "execution_count": 13,
     "metadata": {},
     "output_type": "execute_result"
    }
   ],
   "source": [
    "df"
   ]
  },
  {
   "cell_type": "markdown",
   "metadata": {},
   "source": []
  },
  {
   "cell_type": "markdown",
   "metadata": {},
   "source": [
    "## apply Second level cleaning"
   ]
  },
  {
   "cell_type": "code",
   "execution_count": 14,
   "metadata": {},
   "outputs": [],
   "source": [
    "def clean_text2(text):\n",
    "    text = re.sub('[''\"\"]', '', text)\n",
    "    text = re.sub('\\n', '', text)\n",
    "    return text\n",
    "\n",
    "cleaned2 = lambda x: clean_text2(x)"
   ]
  },
  {
   "cell_type": "code",
   "execution_count": 15,
   "metadata": {},
   "outputs": [],
   "source": [
    "df[\"cleaned2\"] = pd.DataFrame(df['Cleaned text'].apply(cleaned2))"
   ]
  },
  {
   "cell_type": "code",
   "execution_count": 16,
   "metadata": {},
   "outputs": [
    {
     "data": {
      "text/html": [
       "<div>\n",
       "<style scoped>\n",
       "    .dataframe tbody tr th:only-of-type {\n",
       "        vertical-align: middle;\n",
       "    }\n",
       "\n",
       "    .dataframe tbody tr th {\n",
       "        vertical-align: top;\n",
       "    }\n",
       "\n",
       "    .dataframe thead th {\n",
       "        text-align: right;\n",
       "    }\n",
       "</style>\n",
       "<table border=\"1\" class=\"dataframe\">\n",
       "  <thead>\n",
       "    <tr style=\"text-align: right;\">\n",
       "      <th></th>\n",
       "      <th>Text</th>\n",
       "      <th>Cleaned text</th>\n",
       "      <th>cleaned2</th>\n",
       "    </tr>\n",
       "  </thead>\n",
       "  <tbody>\n",
       "    <tr>\n",
       "      <th>0</th>\n",
       "      <td>@kunalb11 I’m an alien</td>\n",
       "      <td>i’m an alien</td>\n",
       "      <td>i’m an alien</td>\n",
       "    </tr>\n",
       "    <tr>\n",
       "      <th>1</th>\n",
       "      <td>@ Ray tracing on Cyberpunk with HDR is next-le...</td>\n",
       "      <td>ray tracing on cyberpunk with hdr is nextleve...</td>\n",
       "      <td>ray tracing on cyberpunk with hdr is nextleve...</td>\n",
       "    </tr>\n",
       "    <tr>\n",
       "      <th>2</th>\n",
       "      <td>@joerogan @Spotify Great interview!</td>\n",
       "      <td>great interview</td>\n",
       "      <td>great interview</td>\n",
       "    </tr>\n",
       "    <tr>\n",
       "      <th>3</th>\n",
       "      <td>@gtera27 Doge is underestimated</td>\n",
       "      <td>doge is underestimated</td>\n",
       "      <td>doge is underestimated</td>\n",
       "    </tr>\n",
       "    <tr>\n",
       "      <th>4</th>\n",
       "      <td>@teslacn Congratulations Tesla China for amazi...</td>\n",
       "      <td>congratulations tesla china for amazing execu...</td>\n",
       "      <td>congratulations tesla china for amazing execu...</td>\n",
       "    </tr>\n",
       "    <tr>\n",
       "      <th>...</th>\n",
       "      <td>...</td>\n",
       "      <td>...</td>\n",
       "      <td>...</td>\n",
       "    </tr>\n",
       "    <tr>\n",
       "      <th>1994</th>\n",
       "      <td>@flcnhvy True, it sounds so surreal, but the n...</td>\n",
       "      <td>true it sounds so surreal but the negative pr...</td>\n",
       "      <td>true it sounds so surreal but the negative pr...</td>\n",
       "    </tr>\n",
       "    <tr>\n",
       "      <th>1995</th>\n",
       "      <td>@PPathole Make sure to read ur terms &amp;amp; con...</td>\n",
       "      <td>make sure to read ur terms amp conditions bef...</td>\n",
       "      <td>make sure to read ur terms amp conditions bef...</td>\n",
       "    </tr>\n",
       "    <tr>\n",
       "      <th>1996</th>\n",
       "      <td>@TeslaGong @PPathole Samwise Gamgee</td>\n",
       "      <td>samwise gamgee</td>\n",
       "      <td>samwise gamgee</td>\n",
       "    </tr>\n",
       "    <tr>\n",
       "      <th>1997</th>\n",
       "      <td>@PPathole Altho Dumb and Dumber is &lt;U+0001F525...</td>\n",
       "      <td>altho dumb and dumber is</td>\n",
       "      <td>altho dumb and dumber is</td>\n",
       "    </tr>\n",
       "    <tr>\n",
       "      <th>1998</th>\n",
       "      <td>Progress update August 28</td>\n",
       "      <td>progress update august</td>\n",
       "      <td>progress update august</td>\n",
       "    </tr>\n",
       "  </tbody>\n",
       "</table>\n",
       "<p>1999 rows × 3 columns</p>\n",
       "</div>"
      ],
      "text/plain": [
       "                                                   Text  \\\n",
       "0                                @kunalb11 I’m an alien   \n",
       "1     @ Ray tracing on Cyberpunk with HDR is next-le...   \n",
       "2                   @joerogan @Spotify Great interview!   \n",
       "3                       @gtera27 Doge is underestimated   \n",
       "4     @teslacn Congratulations Tesla China for amazi...   \n",
       "...                                                 ...   \n",
       "1994  @flcnhvy True, it sounds so surreal, but the n...   \n",
       "1995  @PPathole Make sure to read ur terms &amp; con...   \n",
       "1996                @TeslaGong @PPathole Samwise Gamgee   \n",
       "1997  @PPathole Altho Dumb and Dumber is <U+0001F525...   \n",
       "1998                          Progress update August 28   \n",
       "\n",
       "                                           Cleaned text  \\\n",
       "0                                          i’m an alien   \n",
       "1      ray tracing on cyberpunk with hdr is nextleve...   \n",
       "2                                       great interview   \n",
       "3                                doge is underestimated   \n",
       "4      congratulations tesla china for amazing execu...   \n",
       "...                                                 ...   \n",
       "1994   true it sounds so surreal but the negative pr...   \n",
       "1995   make sure to read ur terms amp conditions bef...   \n",
       "1996                                     samwise gamgee   \n",
       "1997                          altho dumb and dumber is    \n",
       "1998                            progress update august    \n",
       "\n",
       "                                               cleaned2  \n",
       "0                                          i’m an alien  \n",
       "1      ray tracing on cyberpunk with hdr is nextleve...  \n",
       "2                                       great interview  \n",
       "3                                doge is underestimated  \n",
       "4      congratulations tesla china for amazing execu...  \n",
       "...                                                 ...  \n",
       "1994   true it sounds so surreal but the negative pr...  \n",
       "1995   make sure to read ur terms amp conditions bef...  \n",
       "1996                                     samwise gamgee  \n",
       "1997                          altho dumb and dumber is   \n",
       "1998                            progress update august   \n",
       "\n",
       "[1999 rows x 3 columns]"
      ]
     },
     "execution_count": 16,
     "metadata": {},
     "output_type": "execute_result"
    }
   ],
   "source": [
    "df"
   ]
  },
  {
   "cell_type": "code",
   "execution_count": 17,
   "metadata": {},
   "outputs": [
    {
     "data": {
      "text/plain": [
       "(1999, 3)"
      ]
     },
     "execution_count": 17,
     "metadata": {},
     "output_type": "execute_result"
    }
   ],
   "source": [
    "df.shape"
   ]
  },
  {
   "cell_type": "markdown",
   "metadata": {},
   "source": [
    "## Now Perform the sentimental analysis"
   ]
  },
  {
   "cell_type": "code",
   "execution_count": 18,
   "metadata": {},
   "outputs": [],
   "source": [
    "from textblob import TextBlob"
   ]
  },
  {
   "cell_type": "code",
   "execution_count": 19,
   "metadata": {},
   "outputs": [],
   "source": [
    " ## polarity measure you how your statement positive of negitive \n",
    "   ## subjectivith measures about your personal feelings views belives\n",
    "text = df.cleaned2"
   ]
  },
  {
   "cell_type": "code",
   "execution_count": 20,
   "metadata": {},
   "outputs": [
    {
     "data": {
      "text/html": [
       "<div>\n",
       "<style scoped>\n",
       "    .dataframe tbody tr th:only-of-type {\n",
       "        vertical-align: middle;\n",
       "    }\n",
       "\n",
       "    .dataframe tbody tr th {\n",
       "        vertical-align: top;\n",
       "    }\n",
       "\n",
       "    .dataframe thead th {\n",
       "        text-align: right;\n",
       "    }\n",
       "</style>\n",
       "<table border=\"1\" class=\"dataframe\">\n",
       "  <thead>\n",
       "    <tr style=\"text-align: right;\">\n",
       "      <th></th>\n",
       "      <th>cleaned2</th>\n",
       "    </tr>\n",
       "  </thead>\n",
       "  <tbody>\n",
       "    <tr>\n",
       "      <th>0</th>\n",
       "      <td>i’m an alien</td>\n",
       "    </tr>\n",
       "    <tr>\n",
       "      <th>1</th>\n",
       "      <td>ray tracing on cyberpunk with hdr is nextleve...</td>\n",
       "    </tr>\n",
       "    <tr>\n",
       "      <th>2</th>\n",
       "      <td>great interview</td>\n",
       "    </tr>\n",
       "    <tr>\n",
       "      <th>3</th>\n",
       "      <td>doge is underestimated</td>\n",
       "    </tr>\n",
       "    <tr>\n",
       "      <th>4</th>\n",
       "      <td>congratulations tesla china for amazing execu...</td>\n",
       "    </tr>\n",
       "  </tbody>\n",
       "</table>\n",
       "</div>"
      ],
      "text/plain": [
       "                                            cleaned2\n",
       "0                                       i’m an alien\n",
       "1   ray tracing on cyberpunk with hdr is nextleve...\n",
       "2                                    great interview\n",
       "3                             doge is underestimated\n",
       "4   congratulations tesla china for amazing execu..."
      ]
     },
     "execution_count": 20,
     "metadata": {},
     "output_type": "execute_result"
    }
   ],
   "source": [
    "new_tweet_text = pd.DataFrame(text)\n",
    "new_tweet_text.head()"
   ]
  },
  {
   "cell_type": "code",
   "execution_count": 21,
   "metadata": {},
   "outputs": [],
   "source": [
    "twt2 = [x.strip()for x in new_tweet_text.cleaned2]"
   ]
  },
  {
   "cell_type": "code",
   "execution_count": 22,
   "metadata": {},
   "outputs": [],
   "source": [
    "twt2 = [x for x in twt2 if x]"
   ]
  },
  {
   "cell_type": "code",
   "execution_count": 23,
   "metadata": {},
   "outputs": [
    {
     "data": {
      "text/plain": [
       "['happy new year of the ox',\n",
       " 'frodo was the underdogeall thought he would failhimself most of all httpstcozgxjfdzzrm',\n",
       " 'haha thanks',\n",
       " 'indeed tweets definitely do not represent realworld time allocation',\n",
       " 'the most entertaining outcome is the most likely',\n",
       " 'just sent some',\n",
       " 'just agree to do clubhouse with',\n",
       " 'it’s getting real',\n",
       " 'bought some dogecoin for lil x so he can be a toddler hodler',\n",
       " 'he definitely has issues but the sentencing seems a bit high']"
      ]
     },
     "execution_count": 23,
     "metadata": {},
     "output_type": "execute_result"
    }
   ],
   "source": [
    "twt2[5:15]"
   ]
  },
  {
   "cell_type": "code",
   "execution_count": 24,
   "metadata": {
    "scrolled": true
   },
   "outputs": [
    {
     "name": "stderr",
     "output_type": "stream",
     "text": [
      "[nltk_data] Downloading package punkt to\n",
      "[nltk_data]     C:\\Users\\saurav\\AppData\\Roaming\\nltk_data...\n",
      "[nltk_data]   Package punkt is already up-to-date!\n"
     ]
    },
    {
     "data": {
      "text/plain": [
       "True"
      ]
     },
     "execution_count": 24,
     "metadata": {},
     "output_type": "execute_result"
    }
   ],
   "source": [
    "import nltk\n",
    "nltk.download('punkt')"
   ]
  },
  {
   "cell_type": "code",
   "execution_count": 25,
   "metadata": {},
   "outputs": [],
   "source": [
    "from nltk import tokenize"
   ]
  },
  {
   "cell_type": "code",
   "execution_count": 26,
   "metadata": {},
   "outputs": [],
   "source": [
    "sentences = tokenize.sent_tokenize(\" \".join(twt2))"
   ]
  },
  {
   "cell_type": "code",
   "execution_count": 27,
   "metadata": {},
   "outputs": [
    {
     "data": {
      "text/plain": [
       "['i’m an alien ray tracing on cyberpunk with hdr is nextlevel have you tried it great interview doge is underestimated congratulations tesla china for amazing execution last year now on to the next for even more happy new year of the ox frodo was the underdogeall thought he would failhimself most of all httpstcozgxjfdzzrm haha thanks indeed tweets definitely do not represent realworld time allocation the most entertaining outcome is the most likely just sent some just agree to do clubhouse with it’s getting real bought some dogecoin for lil x so he can be a toddler hodler he definitely has issues but the sentencing seems a bit high thanks for fixing please unlock my account this is true power haha any crypto wallet that won’t give you your private keys should be avoided at all costs your app sucks rt  nasa has selected falcon heavy to launch the first two elements of the lunar gateway together on one mission … yes once we can predict cash flow reasonably well starlink will ipo starlink is a staggeringly difficult technical amp economic endeavor however if we don… spacex needs to pass through a deep chasm of negative cash flow over the next year or… aacarmack lowest cost per ton of carbon sequestered net of value of any product made must be scalable to g… it’s meant to be the same price in all countries only difference should be taxes amp shipping this is intended for earth but there may be some ideas that apply to mars too zpalmer xprize team will manage the  carbon capture prize everyone at tesla receives stock my comp is all stockoptions which i do not take off the table that’s what you’re missing back to work i go … does seem a bit high doge appears to be inflationary but is not meaningfully so fixed  of coins per unit time whereas… wow orbital launch tower that can stack enough raptors for orbit booster improve ship amp booster mass back to work tonight ð is for ðogecoin instructional videohttpstcoueeocofctb the people have spoken … so cute extremely misleading image as doesn’t reflect true time cost to people or rain amp pain who let the doge out hodl the rainforests so … it’s finally come to this … it’s the most fun crypto its simplicity is its genius gdogg  yup true not that easy this is two decades of intense work have to look at old notes emails texts yes lessons learned of earth and mars time to tell the story of tesla amp spacex have you read  it’s great the second last kingdom haven’t heard that name in years … dogecake yolt that’s damian yeah sure the great thing about restaurants is that you get to hang out with strangers  sjm the future currency of earth just a scratch much wow destiny franz was essential bickett   that said the ship landing burn has a clear solution my greate… bickett   will still use hot gas maneuvering rcs thrusters… bickett   higher isp too bickett   intuitively it would seem so but turbopumpfed raptors have mu… yes rt  falcon  will launch ’s spherex mission – which will collect data on more than  million galaxies and explore how the un… rt  falcon  launches  starlink satellites to orbit – mission from pad  on deck it’s true bickett    yeah by default engine with least lever arm would shut down if all  are good yes but engines have a min throttle point where there is flameout risk so la… httpstcothniyssnwn yes it was foolish of us not to start  engines amp immediately shut down  as  are needed to land i am become memedestroyer of shorts cruz might actually happen sandstorm is a masterpiece we were too dumb next time we try pull up method lowkey loki no highs no lows only doge no need to be a gigachad to own dogecoin is the people’s crypto ur welcome the most entertaining outcome is the most likely doge httpstcovviuzwhodt high seas amp wind this was a tough one rt  watch falcon  launch  starlink satellites  httpstcobjfjlczwdk off twitter for a while it will be filled with graffiti art giga berlin progress neuralink is working super hard to ensure implant safety amp is in close communication with the… rt  this mission enables access for everyday people who dream of going to space rt  announcing the first commercial astronaut mission to orbit earth aboard dragon  httpstcombesvnakad httpstcouklsjffrjk if you’ve worked on advanced wearables phones or robots those skills are needed feels weird helping make hopefully good version of cyberpunk come true please consider working at neuralinkshortterm solve brainspine injurieslongterm humanai symbiosis latte… httpstcoxccokojylt on clubhouse tonight at  la time cooney     tom has some great stories about experim… httpstcoteezkiwcmk rt crew launch alert   and  are targeting no earlier than april  for the launch of the second crew rotation mis… cooney     he became a big fan of methane but was… cooney     that sounds correct tom certainly deserves a lot of cre… cooney     tom is great amp was instrumental in developing early vers… tw will be  so it will accelerate unusually fast high tw is important for reusable v… no escaping that for me read the whole article warm sunny day amp snowy mountains what a beautiful day in la yeah dr frankensteen i never used this guy he gave a talk at spacex once only halo i sure hope that’s not true at tesla or spacex cryoproof then install engines starship  amp in retrospect it was inevitable great shot menieb live by the sword die by the sword entropy buy amp hold companies that make goods amp produce services you love feed earth is small amp we are smaller still with cyberpunk even the hotfixes literally have hotfixes but … great game the dollar is shorting itself indeed shopify is great too spacex used them indeed the economy — making useful products amp providing great services — is what actually matters tanstaafl would be better to have small fees than no fees as latter makes robin… httpstcoczrhlolyvo here come the shorty apologistsgive them no respectget shorty u can’t sell houses u don’t ownu can’t sell cars u don’t ownbut u can sell stock u don’t ownthis is bs – sh… yes finishing engineering this year production starts next year aiming to have release candidate desig… httpstcobfverxpoqu i made that video absolutely unlike its aircraft division which is fine the faa space division has a fundamentally broken reg… nomad the esthetics of cyberpunk are incredible btw the interior design major esthetics improvements coming ryan a little ryan new roadster is part rocket ryan   there’s more storage now amp easily upgradable investor yes yeah probably in a few months after you drive without using a prnd stalkstick for a few days it gets very annoying to go back amp use a shifter no more stalks car guesses drive direction based on what obstacles it sees context amp nav map you… a hedge fund that shorts is a shrubbery yeah also a rear screen to  trap speed in a  mile  top speed with right tires first production car ever to achieve  to  mph in less than  seconds it can play cyberpunk plaid model s ships next month httpstcohfuptnqipb even discord has gone corpo … yup wild times on discord haha waiting for faa review … gamestonk httpstcorztkdzaewj passed initial pressure test yes bought a hand knit wool marvin the martian helm for my dog httpstcogpcvjibtlm i kinda love etsy it does not serve the public to hamstring starlink today for an amazon satellite system that is at… httpstcosnigkxdxfp we’re hoping for faa approval of a test flight tomorrow afternoon the entire “stack” from data collection through labeling amp inference has to be in surround video th… yes although it will be crazy not to turn  on fsd tesla is steadily moving all nns to  camera surround video this will enable superhuman selfdriving also the road to hell is mostly paved with bad intentions catchy intel   all sats launched next year will have laser links only o… intel   yup i hope so com these also have laser links between the satellites so no ground stations are needed over the poles sorry for the version confusion  is what it should say for fsd separate version number for rest of car to my surprise tesla has better ai hardware amp software than waymo money it floats falloutthemed opening party for vegas loop happening as soon as allowed ebenton under vegas in  tunnel yesterday with my boys httpstcotlfouiedfm lasers rt  spacex’s rideshare offering provides increased access to space for small satellite operators seeking a reliable affordable rid… rt  falcon ’s first stage has landed on the of course i still love you droneship rt  liftoff we’re switching to a more sensible fsd version numbering to distinguish between major amp minor updates… hopefully early next week rt  due to unfavorable weather we are standing down from todays launch the team will continue with the countdown until  seco… given so many other companies are depending on this mission it is getting even more scru… launching many small satellites for a wide range of customers tomorrow excited about offering lowcost access to o… they are part of the solution but require lots of fresh water amp land we may need something that’s… it’s a good path for fully renewable rocket energy so solves part of problem but longer chain hyd… httpstcoxugrzqijzx details next week am donating  towards a prize for best carbon capture technology pretty much that would probably mean civilization is doing gr… cz    … absolutely they rock rt  falcon  launches starlink to orbit – the eighth launch and landing of this booster the ratelimiting part or process in cell production is constantly changing cars amp trucks stuck in traffic generate megatons of toxic gases amp particulate but… httpstcojcqiacxjno with our giant casting machines we are literally trying to make fullsize car… httpstcochgqmaiyts tegmark is an exceptionally smart amp good human the best manufacturing technology is in ultra high volume industries like food amp beverage some medical eg syringes amp toys battery cell production is the fundamental ratelimiter slowing down a sustainable energy future very important pr… ferragu looking into this no question that fsd should be viewed as reasonably valuable when doing a tradein for sure glad you’re ok orbit congratulations this is a good one i whistle ryan rhm  cybertruck doesn’t need a garage ryan  it will be awesome good point your serverside code is doing too much happy birthday wikipedia so glad you exist guess you been watching cobra kai fallout new texas only chuck norris can divide by zero good point the thing we call money is just an information system for labor allocation what actuall… monty python is amazing they sure can twist the knife in that show probably wise we’re making major improvements to ease of engine swap needs to be a few hours at most two of the engines need slight repairs so will be switched out nice shot we don’t have high school internships but please apply when you’re in college prototypes are easy volume production is hard positive cash flow is  excruciating physics rt  splashdown of dragon confirmed completing spacex’s  station resupply mission and the first return of a cargo resupp… detanking amp inspections now good progress towards our “hop in amp go to mars” goal all three static fires completed amp no ruds wow a lot has happened in  years fair enough haha sea shanty tiktok takes it to a new level with actual pirate ships sure today at spacex is about practicing starship engine starts ship is held down by massive pins while engines are fir… httpstcoqtiiwlxxpl com as promised legalize comedy you can steal our namelogos amp we probably won’t sue you we’re just trying to get people to mars help would be appreciated station one day we will get a camera up there that also shows the star field in the background rt  separation confirmed dragon performing  departure burns to move away from the station suicide is more than double homicide absolutely hey you …yeah you queen …you’re gonna make it  httpstcolrqdirbiyd hate to say it but might be true the robot future is coming every millisecond but there are times i wish it were faster httpstcotkkruvgbth httpstcobkkeiiicye mus protec  yoda this is an important distinction much more than this amp increasing rapidly it is once in a while something happens that is even better than we imagined the factory is the product probably commenting on  will do more i bought the replacement glass from a junkyard for  they’re great places to get spare parts a lot of people are going to be super unhappy with west coast high tech as the de facto arbiter of free speech already donated to signal a year ago will donate more i am primarily trying to advance two causes sustainable energy amp extending lifeconsciousness beyond e… httpstcovybfavhkys wooseok maybe a tesla ai day later this year the prancing pony it’s true yes but not for long yeah they seemed optimistic too my  son saxon said he feels like  will be a good year i agree let us all make it so was also thinking that spacex boca should hold fun parties and give tours for the community from time to time i super support public spaces around our production amp launch sites wherever it can be done… that too catapult high into the air amp land on the roof with a base jumping parachute the only way to travel that’s actually our restaurant but spacex is building a futuristic bar at the top of the h… and increase fun hopefully me neither one of the best tesla solar roof installations no but maybe one day feed yes that would be the best way to do it a large solar field or reactor is needed for po… feed his sick beats probably less than a few dozen primary decisionmakers technically only three or at least the option for verification so that the public can ascribe more credibilit… launch underway btw critical feedback is always super appreciated as well as ways to donate money that really make a difference way harder than it seems feed yup feed indirectly an electric rocket is possible by using electricity to convert  —gt  this… feed not to get to orbit unfortunately in space photon emission powered by matterantimatter annihila… this will be hard to make as it isn’t like any other vehicle playing the long game true aacarmack i hope so wings don’t work on the moon at all and def not well on mars also no runways hamiltonians have  the potential of langrangians and a play well back to work … how strange use signal ya don’t say reminds me of this timeless classic … fast water with tiny rocks yes and then occam’s razor is actually third most likely as seen from an external observer not the participants the most entertaining outcome is the most likely dumb and dumber is a great movie tho this is called the domino effect … because of the large footprint it may seem flat but actually ranges up to  stories tall snow falling on giga berlin yes tesla is responsible for  of all the personal amp professional pain in my life combined but it was worth it so proud of the tesla team for achieving this major milestone at the start of tesla i thought we had optimistica… rt  in  we produced and delivered half a million cars huge thanks to all those who made this possible um we have giant fusion reactor in the sky that works with no maintenance ai tesla full selfdriving will work at a safety level well above that of the average driver this year of t… httpstcojmabjuqfdf dojo isn’t needed but will make selfdriving better it isn’t enough to be safer than human drivers aut… ignore the heading great interview with mathias döpfner the greatest gatsby inspired by the ballet rocket motion is primarily vertical so you want the top open let’s make the roaring ’s again might be a few lumps along the way production is hard prototypes are easy building  starships to create a s… httpstcoxjlljpljbp enough     exactly haha will press  header tank with helium longterm solution is under debate… yes legs would certainly work but best part is no part best step is no step yes saves mass amp cost of legs amp enables immediate repositioning of booster on to launch mount — rea… httpstcojwdcjarymj we’re going to try to catch the super heavy booster with the launch tower arm using the grid fins to take the load snakehead dog had my undivided attention until winderhead ostrich came gliding through all nonchalant com seems odd that the opposition group is from bmw’s home state of baveria that‘s very far from brande… com this is very sensible opposition from anywhere cannot mean no progress everywhere literally are we sure this is real destiny destinyno escaping that for me all tesla cars delivered in the final three days of the year will get three months of the full selfdriving option… inc and mark dankberg this action is wack not dank zadeh less westworld the last kingdom show is great absolutely will be text amp visualization but could add voice too central  even cheese is made of cake if they don’t love us we’re in deep trouble not everything is made of cake httpstcoomacmyqawx glenn true haha such a weird game when you think about it this is not cgi we need a ui overhaul no these are just incremental improvements to the production codebase fsd build is… inc starlink “poses a hazard” to viasat’s profits more like it stop the sneaky moves charlie ergen entertainment will be critical when cars drive themselves just meeting with larry ellison to seek some advice back working on tesla end of quarter tomorrow absolutely what should tesla do with incar gaming in an autonomous world absolutely com taste of the future try playing polytopia in your tesla great game multiplayer online version coming soon focus on making products amp services people truly love so that the total economic pie is bigger instead of en… siphiw   roughly  of parts in tesla roadster were unique — not in any other pro… yes feed very important ok service might be able to do this will check you mean install the external speaker on earlier cars that don’t have it no but definitely this year good point stve  interesting liz has always done great interviews stve  falcon was  of successful orbital launches in  but maybe a majority of pa… vaccines are just the start it’s also capable in theory of curing almost anything turns medicine into a… yes we will offer multiple display options a few more revisions needed probably beta  or sure haha ok adri  there are subtle important differences between us amp canada traffic rules bu… adri  yes we need a “match other traffic speed” setting definitely extrachars it’s a step in that direction it’s one  or   if you don’t have a car with pedestrian speaker we couldn’t get everything done in… the writing on cobra kai is haha i will save you the nightmare of seeing me in those shorts extrachars you can upload custom musicsounds unfortunately pedestrian speaker is needed otherwise no external sound generator except actual horn change your horn sound to    or holiday jingles with latest tesla software update merry christmas amp happy holidays com great game it will most likely make sense for starlink to go public once the revenue growth is reasonably predictable engineering design amp general company operations absorb vast majority of my mind amp are the fundamental li… futurist  yes a few months coming soon minor yeah story rocket turns off its engines amp does a controlled fall yup we’re just ironing out a few bugs to tesla owners taking delivery in the final days of year your support is super appreciated frictionless ai what could possibly go wrong good idea during the darkest days of the model  program i reached out to tim cook to discuss the possibility of… strange if true  tesla already uses ironphosphate for medium range cars made in our shanghai facto… httpstcomilwsilvrt sparta’s reply to macedon hi liz thanks to everyone who worked so hard to make tesla successful my heart goes out to you indeed it was a seriously twisted affair but all’s that ends well they are although it’s kind lowkey tesla superchargers are being made accessible to other electric cars rt  photos from yesterday’s launch and landing saylor are such large transactions even possible i love all u crazy ppl out there you have a point sigh great game pretty much the main value of college used to be hanging out having pseudo intellectual conversations amp… come for the comments stay for the absolutely we will release fsd subscription early next year one word doge bitcoin is almost as bs as fiat money miloslav great nails amp lipstick kalo     … httpstcodvwzgtppda httpstcoebojgshvrq sounds about right “lord” edge thelen nice branding just kidding who needs a safe word anyway bitcoin is my safe word rt  falcon ’s first stage has landed on landing zone rt  liftoff standing down for today to inspect rocket hopefully launching tomorrow pressure is slightly high in upper stage liquid oxygen tank review underway mania i am hoping to be back next month very impressive mission by china last launch of  coming up he was indeed quite grumpy but we did not actually know what we were doing so he had a point it will get absurdly good tesla aiautopilot engineering is awesome there’s some great ai out ther… star light star bright this is incorrect but it is visually stunning amp playability is good a tshirt being better armor than a kevlar chest plate doesn’t make sense in the absence of magic also w… httpstcoiydkttvsqk oh and umm … i absolutely support trans but all these pronouns are an esthetic nightmare the raptors were well below max thrust or the ship would have blown through the altit… httpstcoikcrzpyxtr far from fully loaded but we were going slow or the ship would have gone crazy highfar with three engines john  it’s a good to great game imo but improving what may seem like mere surface detail woul… tesla com perhaps slightly more confident but it’s essential to view this as output vs time as… httpstcorkfvjvotse com dankeschön brandenburg und grünheide sure hope that future doesn’t come to pass com giga berlinbrandenburg will be the first to use our new structural pack architecture  world’s… original deus ex was incredible human revolution was also great the objective reality is that it is impossible to run an advanced game well on old hardware this is… rt  starship landing flip maneuver ascent to the heavens feed yeah briefly seems pretty good i picked nomad so start was a little slow but picks up… httpstconllipnbmxr menieb hehe httpstcosdmxkbhdzd rt  falcon  launches  to orbit completing spacex’s  launch this year init void cooling haha i still have a soft spot in my heart for transpiration cooking in theory it would us… ship leeward side will be bare metal windward will have black hexagonal heat shield tiles rt cg cant wait  spacex spacexstarship httpstcoynetmywfvg cg yes agreed should be preserved in memory of rt  photos from starship ’s flight test exactly woohoo did great even reaching apogee would’ve been great so controlling all way to putting… thank you south texas for your support this is the gateway to mars life the universe and everything yeah engines did great mars here we come fuel header tank pressure was low during landing burn causing touchdown velocity to be high amp rud but we got all… httpstcowgjvdsahmf successful ascent switchover to header tanks amp precise flap control to landing point nearorbital space is the fastest way to travel long distance on earth station it’s called the space “station” but it’s actually moving around earth at  times the spee… httpstcovyvivrtzsa rt  timelapse of dragon on approach – two dragons now docked to the station “so long and thanks for the orifice” alien message decrypted probably  chance of completing all mission objectives hopefully flying tomorrow yup rt  success at  et s upgraded dragon cargo spacecraft autonomously docked to the station  this is the … out on the pad in south texas rt station the station and the  dragon are going into an orbital night period before the  et docking the crewdragon… station  wow station looks amazing rt  good morning earthlings  the journey continues watch as the nasa  cargo resupply mission docks to the statio… knock knock singing telegram carrying even more symbiotic bacteria  trillion than cells yes we are mobile cell colonies rt  tracking footage from a helicopter of today’s falcon  launch off rt  there’s something genuinely magical about seeing starship  in person boca chica is beautiful quiet and serine t… im gespräch mit mathias döpfner rt  dragon separation confirmed the spacecraft is on its way to the station autonomous docking tomorrow at approximately … rt  falcon  booster has landed on the of course i still love you droneship rt  liftoff jaxa en congratulations jaxa congratulations yes it does rt  tunnel rave and no toilet paper watch demolition man prometheus unbound rt  the falcon  booster supporting this mission previously launched  astronauts bob behnken and doug hurley to the sta… not bad it was a beast compared to the com award accepted on behalf of the great people at tesla spacex neuralink amp boring co much of what people think of an science is actually engineering eg no such thing as a “rocket scientist” only roc… science is discovering the essential truths about what exists in the universe engineering is about creating things… httpstcoxmqtbrldyp it does get a bit cold at night feed paint makes a hell of a difference congrats thanks for everything you did to help build spacex some of the best memories ever it will be real soon starship legs are one of the hardest problems external… static fire is not risky from build site but we need to clear the build site for early flights just a static fire tomorrow flight no earlier than wednesday it will have landing legs yes very sad news tony was great for a second there i thought that was a pic of thanos haha bearq aacarmack yeah truncate zeros amp then round aacarmack probably going to a wider beta in  weeks aacarmack  with least important digits truncated so it feels like  is what we’re betting on for training with dojo aacarmack  for almost all heavy lifting in inference works great but actually happy thanksgiving hopefully next month ok overall air suspension height amp damping algorithm is… haha true the promise is greatly needed we will have special colors for new roadster as we did for the original is savage if you ever wondered where we came from this is a life leader launch so more risk than normal yes but only slightly filled this is a subject of much debate major upgrades are slated for many small improvements but overall similar wiring is more robust engines are more mat… but that’s why we have sn  amp lot of things need to go right so maybe  chance good starship  static fire aiming for first    ft altitude flight next week goals are to test  engin… maybe start on that a year from now depends on how starship progress goes not yet not bad we will definitely need more engines if we make the cargo bay all propel… rapid amp complete rocket reuse low cost propellant orbital refilling amp propellant production at d… yes we’re still far from simply video in control out the biggest gamechanger cu… fsd beta  coming out in a few days improvement should be significant exciting mission wow boeree yea tomorrow will be the  flight of this rocket landing on droneship of course i still love you sure true we have quiet a queue of products to build better do new roadster at some fate loves irony but hates hypocrisy rt  booster separation secondengine start and fairing separation as the useuropean  michael freilich oceanobserving… enough  yes our data center was named skynet as a joke over  years ago might have been tempting fate tesla is a vehicle for creating amp producing many useful products largest cast titanium part in the world no heat shielding needed landing at vandenberg afb in california lsp   actually off to the side so it doesn’t take out the launch… lsp   where it should be because i am not an investor tesla is definitely not the only good company but investing is n… well almost anything httpstcoffpvdsqruc quite the day ahead rt  ’s view of earth during dragon’s flight to the station now this is what you’d call pointy cool fonseca station   they’re moving at  times the speed of sound but it feels like nothing station there will always be upgrades station it will be better than human vision by quite a margin nafnlaus   station reality looks like a strange ghostworld at radar wavelengths… station exactly this is a misperception spacex developed amp continues to use lidar for dragon docking with… one day we will fly you on starship jbeck well done i can’t comment on turbopump internal details but you’re roughly in the ballpark wow roc… to be clear this was just an xpeng problem other companies in china have not done this andrej is awesome but it should be said that we have a very talented autopilot… yeah they stole apple’s code too they have an old version of our software amp don’t have our nn inference computer wild times congrats aacarmack yup change out a few parts otherwise fine caution strongly advised with spacs sure haha sexy cropping champion of all time if next week’s release looks good we will widen beta unfortunately there are too many rules around liquor distribution even in the us… next week’s release is special lot of fundamental improvements both important bug fixes amp entire n… years amp  billion … wow safety is our primary design goal fully let the martians decide their own future a lot of my brain space is spent dealing with both units terraforming will be too slow to be relevant in our lifetime however we can establish a human base… that is certainly the intention httpstcofrezwjcwna the only publicly traded stock i own is tesla wise words from bogle the point of companies is products amp services they have no point in amp of thems… no just a mild cold same with my bro def had  though  means viral… httpstcouysanpqtfi life in glass domes at first eventually terraformed to support life like earth yeah xd  i was going to say “sim” but that seemed too obvious haha deveras and cases with high noninfectious ct should quarantine for a few days while getting another test seco… httpstcooalvzwcmio so many things you want amp some you didn’t know you wanted maybe a little mercy … tesla holiday software release is williams cobra kai is a deep cut it’s all cake amp someone took a bite there is such a thing as too much sentience deus ex machine learning it’s designed to make life multiplanetary otherwise extreme overkill for mere earth sector activity… more like he gave it his blessing it was sort of a groundswell of those who believed… nullius in verba indeed dojodoge yeah looks like marginal cost of launch will be less than  for more than … exactly merlin is a strong local maximum design but kerosene is suboptimal fuel no matter what… bickett enough   yes but from a visiting american ah the irony is just too much bickett enough   yeah pcr ct was unequivocal at  doesn’t matter what m… maybe making some notable changes will wait until figurative amp literal dust settles enough   pretty close definitely feel  if i take dayquil frankly this was one… avionics cables moving to steel pipe shields amp adding watercooled steel pipes to test pad about  secs after starting engines martyte covering concrete below shattered sending blades of… the most amazing thing about rocket engines is that they sometimes don’t blow up the… we should just count the atoms at this point absolutely productiontesting of rocket engines is over  of… our first merlin engine design was really bad tbh nothing worked well… maybe i just love irony haha they’re on their way hopefully more teslaquila next month nsf special permission received from stonecutters guild fate  irony well said williams   httpstcouwerahxuev damn that’s not easy i spent quite a bit of time looking at russianukrainian engines they’re good lab yes rt  docking confirmed – crew dragon has arrived at the station williams  toss a bitcoin to ur witcher rt   enter the crew dragon at  pm est  pm utc the nasa   astronauts give you a live tour of their space… lab curevac moderna amp a few others tesla makes the machine curevac uses to go from kn… lab creating synthetic mrna for curesvaccines is the future of medicine imo turns it mostly into a… anne skeptic  herbers haha lab great thread i’m ok thanks for asking no symptoms for past few days apart from fatigue unless something chang… launch in  minutes yeah with cooling channels integrated into the chamber walls the same propellant is used either for abort or for orbital maneuvering as one use obviates the other dragon can also hover amp land propulsively but we use the parachutes for maximum safety thrusters are integrated with spacecraft enabling abort capability all the way to abort for increased safety rt  what song would you play on your ride out to the launch pad launchamerica rt  dragon has completed  flights to and from the station it was designed from the beginning with human spaceflight in mi… rt  dragon is the only spacecraft currently flying capable of returning significant amounts of cargo to earth and is the first priv… rt  spacex’s customtailored suits route the communications and cooling systems and protect the crew in the event of cabin depressu… rt  live now we are ready to launchamerica are you watch coverage of the nasa   mission liftoff is at  et… rt  watch falcon  launch crew dragon on its first operational mission to the station with astronauts on board  httpstc… ok rt  all systems are go for tonight’s launch at  pm est of crew dragon’s first operational mission with four astronauts on boa… yeah i feel pretty normal no symptoms right now last week i had sym… doing tests from several different labs same time of day administered by rn amp am… livio both obv insanely great too bad they had this pointless argument astronaut launch today rt   soichi has a message for boys and girls in japan space is waiting in this  spotlight en astronaut so… rt  this week nasas   astronauts arrive at  ahead of launch our  rover marks  days… rt soichi spacex nasa  just finished final dress rehearsal getting ready for saturday launch behind me is real dragon… livio no kids though livio hell of a wig collection too lab it would be great if labs could give people this level of granular feedback in their results rt lab  great question it’s more complex question and depends on why the test is being used  ie do you want to kn… worth reading this thread if you’re curious about rona testing lab they should be imo if you get a blood pressure test they tell you the number not ju… a little up amp down feels just like a regular cold but more body achy amp cloudy head than co… lab in your opinion at what ct number for the   gene should a pcr test probably be regarded as… lab cool but please be super cautious expect two steps forward one back lot of new code was merged just a scratch we can buff it out am getting wildly different results from different labs but most likely i have a moderate case of covid… httpstcoxlbahahjoj npcs all the way up ahem unless you’re on dmt laws of thermodynamics you can’t win you can’t break even you can’t stop playing shakes fist at entropy big expansion of beta program in  to  weeks nunez  interesting my thursday night saliva sample came back today with  gene unique to cov… enough  what’s honey feels that way this seems accurate cold symptoms are gone for now there are degrees of pos h  roi  heneghan makes a lot of sense hilarious that he has to clarify that he r… the number of pcr amplification cycles required to detect the virus is a rough indicator of your vir… h roi  this a great reference worth a read case closed soon fwiw lab i just spoke to thinks below  is accurate  to  gets dicey amp above  is bs will talk to… lab i just spoke to said  pcr detection  amp  genes below  cycles is reliable amp above  cycles is not note this is not the spike protein they don’t consider that reliable just spoke directly to a testing lab their main pcr search is for the  gene unique… strange possible explanation for the dramatic decline in cold amp flu prevalence vs prior years if someone comes… httpstcogmlvewwxdp moreover lower the true prevalence the higher the false positive number will be this sounds obvious… from emorgan sure is would be great to hear from people who know a lot about the pcr testing industry what’s the approximate false posi… interesting beans  interesting what is the general population no knowledge of symptoms accuracy of a  pcr test amp is it possible to gene… a good pcr test should identify if i have the  spike proteins although i have heard s… mild sniffles amp cough amp slight fever past few days right now no symptoms although i did take nyquil technically i tested positive then negative twice then positive again so “elon musk tests negati… the carousel turns ever faster yup exactly symptoms of a typical cold nothing unusual so far if it’s happening to me it’s happening to others i’m getting pcr tests from separate labs results will take about  hours something extremely bogus is going on was tested for covid four times today two tests came back negative two cam… burst disk worked so vehicle appears to be ok we’ll have to swap out at least one of the engines maybe melted an engine preburner or fuel hot gas manifold whatev… we lost vehicle pneumatics reason unknown at present liquid oxygen header tank pressure is risin… rt  tesla tops list of ’s most attractive employers for us engineering students astronauts fly to station on sat night from cape first operational flight of crew dragon httpstcouzcgikcikb luck is the best superpower rt  thank you to all those who have served and sacrificed veteransday rt  crew access arm swings into place yes it is an honor that they would choose to work with me i strive to ensure that the companies enable… such a privilege to work with people i like amp respect so much i feel blessed rt crew the flight readiness review for the  mission to the station has concluded and  and  are go t… rt  falcon  and crew dragon vertical on launch complex stanley   probably happy to see this i do expect this to become an important product for the world but probably not financially material for tesla stanley   there’s no entry… httpstconcafknfzlc tesla makes the rna bioreactor that can make vaccines  cures curevac has version  in use… httpstcoopouohyamu rt  crew dragon and falcon  in the hangar at launch complex  ahead of launching four astronauts to the station liftoff… checking i just hope this game doesn’t twist itself to tedium out of fear of being canceled rt  rumor has it that austin chalk is geologically one of best soils for tunneling want to find out austin jobs now avai… yes you can have my damn cookie should be a browser setting thanks to a lot of great autopilotai hardware amp software engineers at tesla for sure will be worth it exactly sure actually it’s still there wait until you see what cybertruck will do this is accidental will be back shortly rt   superchargers and counting inc am hoping to change booster design to land back on launch mount with… chip has temp sensor amp automatically maintains safe temp inc enough already on my plate amp tesla’s maybe one day will do a prototy… neuralink won’t overclock the brain it will transfer processing to the supercomputer extension of yo… we rewrote all labeling software for  very different from labeling single phot… httpstcomltbdsquty version  is about a year away inc it would appear that their calculations were incorrect inc china understands the profound importance of reusability the era of expendable rockets will soon be over tesla autopilotai team good explanation  is essential for dynamically occluded objects especially in large intersection… rt the phantom of the opera is here … inside your mind just looking for problemsolvers who get things done with a high sense of urgency don’t care if or where they went to school when sending your resume please describe a few of the hardest problems you solved amp exactly how you solved them a new banner is neededneither hard left nor right another fine day in the simulation … faraday invented the electric motor tesla the commutatorfree threephase ac induction motor in other… maxwell was amazing should have more recognition tesla motors inc was almost called faraday as it to… is ten times better than rt  deployment of gps  confirmed httpstcofcfjrcwmti rt  falcon ’s first stage lands on the of course i still love you droneship rt  liftoff awaiting approval from canadian authorities recruiting ace engineers for giga berlin will interview in person tomorrow on site send resume to hurley   stop being a chad hurley   uh … chad wtf einstein was great but did not succeed at engineering and he tried yeah that will be relatively easy as so few users out in the ocean enough    yes although i didn’t expect the stock to rise so much so… super appreciate your support steve that convertible loan gave us  months of runway… closest we got was about a month the model  ramp was extreme stress amp pa… i put in my last money even though i thought we would still fail but it was eithe… that funding round completed  on christmas eve in  last hour of last day possible as investo… httpstcoumfgjnkoxm bickett  yes lowering starlink terminal cost which may sound rather pedestrian is actually our most difficult technical challenge as soon as we get regulatory approval hopefully around middle of next year right now it takes about  mins to set up but with future improvements probably less than  mi… arne  canada and norway are next after we get us out of early beta nafnlaus  didn’t realize that was possible no problem if there’s a way get current design cybertruck approved in europe as soon as we get country approval this is required for each country individually as no euwide approval… rassett lower latitude states need more satellites in position so probably january several thousand more starlink beta participation invitations going out this week new design is better with many minor tweaks even the small details matter feed haha very close to actual expected flight httpstcoruediphtil lockyer i could not be more excited about the new supercollider that said while it is considerably larger… … average… average  tesla tex… yes penguin random house  should change the name to random sure although it might be quite a short livestream lot can go wrong but we’ll provide video wa… this is what matters most we’ve tested a subscale version in a wind tunnel with active aero clos… lord of the … yeah although if it fails right at the end some landing… minor understanding exactly how the body flaps control pitch yaw amp roll duri… but a rud right off launch pad is also possible fortunately  is almost ready stable controlled descent with body flaps would be great transferring propellant… every  to  days faults will never be zero but at some point the probability of a fault wi… we measure this primarily in intervention probability this update addressed several issu… thanks to a great autopilotai team working super hard doing “neural nets” without testing them again… latency will improve significantly soon bandwidth too this build should be noticeably better with interventions yes i’ve spent more than half my life in california amp love the state but frankly i think… and … sweden is still right with zero deaths oct true also fewer heart attacks as way easier to pump blood in  gravity feed now we’re talking also stephenson  is in the constellation scrotum haha feed small fry the sun converts over  million tons of mass to energy every second accurate some challenges with high winds looks like sunday for static fire great shot future ai will appreciate this truth is stranger than fiction sci urf is so smol for a long time truth be told i’ve eaten at jitb many times over the years even the teriyaki bowl might buy a jack in the box footstool approximately lograte same bot just change setting to “combat” well being a phased array antenna it is actually rather flat tesla should make  catgirl robots little crane “am i just a toy to you” come here … no come here wow this mayo sure is salty max payne was great on many levels silent hill good too jack in the box should do double duty as a sperm donor clinic — name is one of the best games ever fear  with modern graphics amp sound would rock ok all games in this thread are far scarier amp more creatively so than any horror movie fear  is best imo also dead space  they will haunt your dreams to the best of my knowledge literally zero equipment was usable without major repairs or upgra… all that was left were broken bots amp equipment hardly worth the scrap metal value but we scrounged up spa… and there were actually zero employees in the factory after gmtoyota left they took all good equipment amp… bettern nothin or ur  back tesla team has done great work well tbh our capex efficiency in  was trash testing for covid is a license to print money yes very helpful thanks all beta testers video training amp inference is essential for excellent autonomy feed sigh … there should be a new supersonic jet this time electric critical to humanity’s future congratulations spacex team mine is a few days ahead sure it could be an option in settings visualization will tone down significantly for production these are intentionally strident colors sure i’m in boca every week so maybe we could talk th… good point probably next week in form of a written piece on spacex website great pics that we now have the beginnings of a starship production system is most meaningful yup with beta updates there’ll be a lot of  steps fwd  step back situations but pace of improv… sanders working on it also needs to be able fart at other cars on command starship is coming together price change is pushed to thursday next week applies only to us for now one week clock will start in other countr… httpstcocjhtxcselt there will be a  deg glass star bar name tbd at top of high bay ryan well we have said many times that the price will rise as the product functionality improves how much ti… agreed are these performance tires just a smallseeming issue with loss of upper stage camera probably nothing serious but standing down to… sure now that tesla fsd beta is out in limited release fsd price new or upgrade will go up by  on monday raj as soon as we complete testing amp regulators approve so many differe… raj yes raj haha dependent on proving high safety not intentional we just wanted to show that you could theoretically convert the entire us vehicle f… cold gas for now hot later i mean ya gotta have a tiki bar … starship nosecone high bay amp tiki bar … after it gets to orbit a few times got a little melty tbh those engines could go  bar but would be dicey pushing it for nearterm tests doesn’t achieve… raptor has now run for  secs at  bar chamber pressure before encountering issues  mtf sea… fsd beta rollout happening tonight will be extremely slow amp cautious as it should data from  engine starship static fire this morning looks good proceeding with nosecone mate yes we also have to consider population lifemonths lost from lockdowns amp other restriction… sweden at zero deaths oct yes firmware is probably a slightly more accurate description but yes rt  theres no place like homeespecially if it has a solar roofthis kansas ranch got theirs installed in  days mobic has too much mobility fusion has too little we need mobid haha actually it’s my neck … maybe i can be helpful had mobic disc put in at  however  surgery failed to remov… pretty accurate it’s not so much dna sequencing as it is using synthetic dnarna to fix bugs in our code… london to beijing would be cool wow that would be quite a trip that’s my kid haha møtør trèndé looks like snoopy com current production is slightly better doesn’t seem to be any life in this solar system maybe under the ice of europa or… rt com tesla model  sr has lowest energy consumption of all bevs says report very creative that free fusion reactor in the sky conveniently converts  million tons of mass into energy every second… you never know after also system should autodelete old data automatically by default table in tension yes starting production on  seater next month initial deliveries early december the gauntlet has been thrown down the prophecy will be fulfilled model s price changes to  tonight … congratulations making progress meter or roughly  ft diameter will be less roomy with  vacuum rocket engines added httpstcopktdfdizyc it’s still there but focus is vegas amp prufrock our new tunneling machine for sure maybe a month or so some finishing touches need to be done on the stations we simplified this a lot it’s basically just teslas in tunnels at this point… sweet … yes everything is slow to a phased array antenna nice “what is love baby don’t hurt me”— winston churchill or maybe  weak turrets to allow more strategic degrees of freedom please buff torb’s turret um … yes i have goosebumps  merch not sure how tbh lotr the illuminaughty knee deep rt  this will be the first flight of the upgraded cargo version of dragon which is able to carry  more science payloads than th… rt  the dragon spacecraft supporting spacex’s  cargo resupply mission to the station departed our hawthorne factory last… yeah at least success is in the set of all possible outcomes this time atlife  diess is doing his best to move in the right direction but he’s in a tough position wi… good grief spacex is getting zero money for this starship is designed to carry people amp cargo around ear… with fsd we got stuck in a lot of local maximums which wasn’t clear until we hit the ceiling this time it’s right thank you much more accurate haha this graph appears to be upside down sheer magnitude of the entire production system is hard to appreciate almost every element of productio… will release order configurator probably in jan limited fsd beta releasing on tuesday next week as promised this will at first be limited to a s… the soc’s sync with each other  to  timessec exchanging output of nns that should be in… tesla fsd computer’s dual socs function like twin engines on planes — they each run different neural nets… accurate analysis quite a few  people in your comment thread haha neither mobileye… glad jen is safe wow uh ok here we go … i don’t think this is accurate yeah there are lite… com even if half that amount it’s still a big deal nafnlaus i have seen no evidence of an advanc… httpstcohbtdtjyttc we face a tough dichotomy of applying resources to the old architecture or applying them to the ne… definitely nafnlaus exactly he plays the “poor inventor” card but was rich all along amp invented nothing as far as i kn… nafnlaus there are sketchy edits to tesla wiki that whitewash eberhard’s problemsglorify his role pretty odd… nafnlaus when eberhard was fired from the tesla ceo role in mid  for providing false information to me amp t… interesting rt  “the future of cars can and will be electric if the entire industry starts making and marketing compelling evs for everyone… stanley   … httpstcoxlbidpmuuq probably i have that exact art on the wall of the place i stay in boca chica yes failure to protect nursing homes was a major mistake happened in most countries… httpstcocmvdkmrish sweden was right stanley   … great work by spacex valve engineering amp production stanley       our tiles are mechanically attached stanley       it m… stanley       tiles will be… httpstcoxpnqrcxqnc aacarmack compilers need to improve imo most type pointer or other memory problems can be detected at comp… i’m proud to say that that nose is pointier than it needs to be haha rt  we put the   model y long range electric suv on our test track to find out what it can do—and it turns out well… norway leads the world passed cryo proof yeah it’s not a contest advanced casting crushes bestcase  printing but casting doesn’t work wel… farmerbob pettit   great pics maybe this should be the flag of mars additive manufacturing of parts is still far too costly for cars but can rapidly create tooling to accel… pretty much but i think it may end on a high note rt  starman last seen leaving earth made its first close approach with mars today—within  astronomical units or under  mill… meant to say that it should be fixed in the latest wide release won’t need to wait for fsd it should be exactly we barked up that tree for way too long sigh gives a false sense of… yes we will play sexy snake jazz yes yeah provided we do our metal gear snake autocoupler waymo is impressive but a highly specialized solution the tesla approach is a general solution the lat… httpstcobbchdqhjja yeah we could put in a setting allowing it to drop as low as great render note there will need to be an arm… mimecraft yes enough  autopilot team is making great progress reality sure is complicated aspiring to have no flame diverter in boca… we do have giant steel balls haha we just completed a financing round but will let you know when there is another one avoigt zimon  i definitely need to try these tasty cakes amp pastries on my next visit mass ratio liquid oxygen is much denser than liquid m… avoigt zimon  had the most amazing kebab ever just outside of tacheles too… httpstcodsgvwdhgnv avoigt zimon  döner kebab you’re most welcome high bay should be finished except for the giant gantry crane within… httpstcomieahkgnfo avoigt zimon  that looks tasty the crash absorption rails can be cut off amp replaced with a bolted part for collision repair enough  sandy munro understands engineering that would be like licensing battlestar galactica actually buil… yes the gigafactory is the hardest amp most critical product battery pack will be a bonded structure with cells providing shear transfer b… but now we understand production much better it will be our primary competitive advantage longterm even gm amp chrysler went bankrupt in  ford and tesla are the only us car companies t… httpstcoieaouisjri the model  production ramp was sheer agony for two years but that was do or die for te… bringing a new product to volume production is  inspiration amp  perspiration you do st… marginal cost of starship mass to orbit should be well under  fully burdened cost depends on flight rate prototypes are a piece of cake but high volume production of a new technology is extremely hard ta… we do expect to make heavy use of lfp for medium range cars amp stationary storage berlin will use  cell with structural battery pack amp front amp rear single piece castings also a… they are i do so wish that more companies would put down their spreadsheets for a moment and focus on making… httpstcolckxzfpozx ua    seeley  bar absolute which is fine for… ua    seeley cryo pressure test succeeded but a small le… seeley one of the best shots ever much sooner great photo it will soon rt  falcon  launches  starlink satellites to orbit completing spacexs  flight of a previously flown rocket booster https… once these satellites reach their target position we will be able to roll out a fairly wide public beta in… rt  deployment of  starlink satellites confirmed we’re not seeing notable differences yet i think the boosters could probably do  reflig… roughly a week or two turnaround is all that’s needed to meet max launch demand starship s… ahem yes it was the  flight of this booster amp  flight for active half of fairing aiming for… flight amp landing for this booster httpstcouotvmkgxqh minutes from launch looks good so far so crazy to subsidize pollution this is not good for people especially in dense cities with heavy… httpstcoackoizwcpw it’s a step in the right direction but they should really aim for full reusability by  larger ro… turn volume to  amp play powerglide in your tesla fsd will solve these issues music volume on a tesla goes to  because it’s louder than one of my favorite writers foundation is tough to make into a movie but has outstanding potential httpstcoglnevuneyl rewatched young frankenstein this weekend still awesome ovaltine httpstcowimdyfsuiq the remake has the potential to be great i kinda liked the original tbh but it’s possible to take it up a level hollywood should just start with the sequel amp skip the original because financials this article is wildly incorrect about lithium battery costs by a factor of  or more presently amp  longterm pretty wild… new spacex droneship will be called “a shortfall of gravitas” nothing can escape gravity not even black holes and they really tried aacarmack would be cool to put yourself in the mind of the car while it’s driving coming soon call of booty great game vectorspace bird’s eye view coming with fsd unexpected pressure rise in the turbomachinery gas generator all of that and more we’re doing a broad review of launch site propulsion structures av… httpstconkfvidsxpp exactly we will need to make a lot of improvements to have a chance of completing  launches next year i agree with lex glad you’re ok haha thanks for waiting next year for sure mbrown    … mbrown     … mbrown        great mbrown        browns… average latency will improve as more sat… very s… yes starlink is design… probably  or  with an optimized tanker a… starlink will be a revolution in connectivity esp… yeah great letter it will be increasingl… the ship rings are thicker than they need to be for… it’s nextlevel glad to hear your mom is ok good to see inspiring for future of space teslagirl   energy plasma  the new heat pump in model y is what re… energy plasma  yes coming soon great render the circumferentia… energy plasma  that’s very hard to do have you tried pushing on the c… energy plasma  it’s cool amp for sure can amp should be done but i suspect its best cas… httpstcopmyscvzozy weld esthetics will improve greatly in upcoming starships haha true why do showers have such a wide range yes light is not as fast as you’d think rt  once this dragon docks to the station there will be two dragons docked simultaneously between crew and cargo missions… rt  spacex training of astronauts that will fly on board dragon’s first operational mission is complete when the crew arrives for… rt  after launch of crew dragon’s first operational mission with astronauts on board spacex will launch its  cargo resupply mi… maybe we used too many magenta spotlights rt  news we’re now targeting  et saturday oct  for the launch of the  and   mission to send ast… having a low center of gravity makes a world of difference to safety we will probably ipo starlink but only several years in the future when revenue growth is… fate loooves irony haha glad spacex could help we are prioritizing emergency responders amp locations with no internet connectivity at all true that’s total market not all tesla we do see tesla reaching  vehiclesyear probably before  bu… total market seven years for sure to  new fully electric vehicles per year six years maybe five ye… both will do original cars we aren’t cutting the price of model  to  i was referring to a future car that will be smaller than model heide  what about a heavy duty paintball machine gun mounted on the bed rails kerle new version coming soon suppliers we’re only doing high energy nickel ourselves at least for now also maybe the presenta… ev teslatom   outback  … checking into it totally up to you but if you head to a tesla delivery center near you amp maybe help out new owners that would be cool aacarmack completely agree yes the flaps are now directly driven by electric motors with a gearbox no more hydraulics thanks tesla team for great work on deliveries for new owners we super appreciate accommodating us on delivery ti… httpstcoppzzhxbxgp there are times when i feel like i’m living in a dilbert cartoon that species has stood the test of time mostly  some  broke at  to  interface  will… bar differential in ullage  bar at base due to propellant head it’… we just need enough height to test body flaps amp drawing propellant from headers vs main tanks will do se… first flight is to  or  ft nosecone amp front flaps next week  next month starship  with rear body flaps sure true rt  falcon  will launch ’s super cool interstellar mapping and acceleration probe imap which will help researchers better… not bad nafnlaus  exactly sandy munro understands engineering turns out they mostly press the letter s amp  on the typewriter centaur with a bow obviously haha something like this can’t support  wheel vehicles not safe enough something appealing about hawkinghartle idea but i agree with turokfeldbruggelehners ur algo true there are some practical size constraints too can’t be too big to fit in the engine comp… doesn’t seem to be a problem we could probably increase area ratio given  bar max de… httpstcogzljmnyciu preburners ignite then main chamber where is our prediction of probability inaccurate or energy amp time but besides that what genetic engineering is too slow unless you use a synthetic virus what can’t we predict yeah but might not need it expansion ratio you can a little bit of flow separation towards the end of the nozzle rt  completed a full duration test fire of the raptor vacuum engine at spacex’s rocket development facility in mcgregor texas http… rt  rvac and sea level raptor with a human for scale only thing beyond ludicrous is plaid aw  this does seem like the opposite of open openai is essentially captured by microsoft haha true maybe i will … jets are so cool pretty much yes yahoo finance is as dumb as it sounds enough yes haha roadster will be better probably cybertruck atv roadster amp semic a r s thanks for your many years of support through very tough times enough  we will be a little below that this year most challenging year we’ve ever had but… that’s about right maybe a little faster yes cgi irl haha rt  we drove a model s long range plus for  miles in california and believe we could have made it to   explain… the extreme difficulty of scaling production of new technology is not well understood it’s  to  harder… httpstcomcxxfnsqfj haha we intend to increase not reduce battery cell purchases from panasonic lg amp catl possibly other partners too h… important note about tesla battery day unveil tomorrow this affects longterm production especially semi cybertr… thanks we really need better legs for starship they’re coming most likely all flaps will fold after landing to reduce wind tip over force t… fine we’ll do it already good analysis although i think we should wait until fsd is a bit more mature surfer i’m pretty sure tesla could do a much better autocorrect the bar is so low haha fotpik  aacarmack true aacarmack custom ultra high speed bus amp efficient cooling aacarmack ok aacarmack pretty much any machinelearning aacarmack it’s big fotpik  aacarmack sure aacarmack yeah we will open dojo for training as a web service once we work out the bugs aacarmack there are a lot of pointless zeroes in  neural nets you can chop off  of the … aacarmack dojo uses our own chips amp a computer architecture optimized for neural net training not a… aacarmack  you really want waypoints this much aacarmack for dojo we’re betting on  with floating floating point essentially truncating mostly zeroes… yes yes there’ll be lots of green space around factory but building itself is continuous the “open” areas… httpstcorabjkrtqlw shaped like a diamond amp aligned on true north a prior track record of exceptional achievement in engineering is required but no prior experience working on… httpstcowzaddnxmid if you feel neuralink might have incorrectly overlooked your resume or declined to  make an offer please lmk in co… felt i had done enough on the internet  amp paypal that my work would… it took an utterly insane amount of work to move the spacex amp tesla success probabilities above zero to be frank in the early days i thought there was  chance that both spacex amp tesla would be worth… irrational is such a funny word to describe numbers of course i still love you sure but which planet good movie current was too strong for droneship to hold station thrusters to be upgraded for future missions lot has happened in  years it will be very insane speedrunning factorio in real life … no but you make some great points important to note that iron’s cost advantage is partly offset by… yup fallout shelter is on your tesla tap the entertainment button implicit conflation of consumption amp capital allocation is the foundational error great idea fallout radio there are some eerie parallels between the boring company amp vaulttec we also built our first demonstration tunnelvault in la doubles as an underground nuclear shelter yeah aacarmack  should be happening soon aacarmack  a bit more obscure but starhammer amp stainless steel rat feed at first i thought that was a parrot they remind me of these guys story of my life tunnels under cities with selfdriving electric cars will feel like warp drivefirst operational tunnel under vega… for sure good point have you hugged a tunnel today good analysis exactly gary the snail is still winning but we’re gaining on himher embrace tunnels tunnels are the solution to traffic you can have as many levels as you want usable tunnel depth far e… just a guess but probably mid teens booster amp stacking on orbital pad are likely limiti… pretty accurate simulation although  will use  raptors if  craters  amp  are close behind… couldn’t agree more — major software improvements are already in place to extend its life amp more coming definitely not smartwatches amp phones are yesterday’s technology neuralinks are the future feed seems like they should make a whole outfit out of that material ancient greece had it all amp then committed suicide nobody digs your grave better than yourself true the lego movie was awesome the story of civilization first book is a little dry but second book the life of greece is incredible i’m wearing your  engine shirt right now rykllan     cumulative mass to orbit per year correc… rykllan     that’s the number that really matters rykllan     anyone tracking tonnage to orbit per year for all launch vehicles one way or another excitement guaranteed support of greater boca padre brownsville community is very much appreciated starship with flaps amp nosecone should be done in about a week then static fire checkouts static fire fly to  ft amp back can someone do a boat service from south padre to boca exactly problems like that have been addressed yes good insight all frames stitched to single frame tricky as all cameras overlap in different ways… much yes releasing private beta in  to  weeks public beta early access owners who opt in… and this still isn’t using the dramatically better “” aka simultaneous surround video from  cameras architecture cool he has no clue sorry to hear that i’m sure you’ll figure it out though took us four launches to reach orbit rockets are hard many exciting things will be unveiled on battery day we will make super efficient home hvac with hepa filters one day if reich actually cares about global warming why is he making so much hot air natürlich bitte arbeiten sie bei tesla giga berlin es wird super spaß machen try a tesla amp you’re welcome to give it back if you decide you prefer a subaru vera rubin observatory is cool munger is right blackscholes formula is kinda bs big difference between a finance approximation amp fundamental physics  pure math true tesla is best understood as a collection of about a dozen startups mostly in series increasingly… tesla rampd productivity is exceptionally good due to the caliber of engineering talent tesla model s amp x have hospitalgrade hepa air filters  amp y are really good too this has a big effect on healt… filmreview rt  tesla energy ramps hiring at giga new york for accelerated solar production touché all tesla workers also get stock so their compensation increased proportionately you are a modern day moron rt  onboard camera view of falcon ’s saocom  launch and first stage land landing yup rawlinson didn’t design model s prototype was done before he joined amp he left us in the lurch just as t… we’re pretty close to the manufacturing size limit for a milled copper amp steel ja… a la guerre comme à la guerre haha and starts tweeting if you bombard earth with enough photons eventually it emits a tesla ak aacarmack there is already bidirectional communication between human amp ai via phones amp computers it’s just lo… above  likely to make it this is a test engine flight articles are fixed with no gimbal worth noting that thrust is only slightly higher with the big bell nozzle version larger bell is primarily… rt  the first raptor vacuum engine rvac for starship has shipped from spacex’s rocket factory in hawthorne california to our dev… com yes chart understates lithiumion potential by roughly model  rated as most reliable car turns out you can make anything fly haha httpstcofjdhqrdvdb exactly this is not fully appreciated starship  flew asimilar hop to  but it was a much smoother amp faster operation berlin vielen dank für ihre hervorragende arbeit an giga berlin great trip to germany support from government amp people is super appreciated boutall rt  deployment of  starlink satellites confirmed rt  liftoff trust ur butt haha an ai with  picking as its goal will result in strawberry fields forever mit     over time outer  will have … mit     yeah alarms just go through resonant modes fast it’s when you hang out there that problems arise mit     the outer ring of booster engines  of  hav… videodrome sorry sir i think i have momentinertiaphobia rt  falcon  first stage lands at landing zone  to complete this booster’s fourth flight httpstcotutackmifn yeah lockyer   lhc tbh lockyer   if you ever want to build a long accelerator tunnel straight or circular i know some people … rt  after launching saocom  and two rideshare payloads to orbit falcon ’s first stage returns to earth and lands at landing zon… rt  deployment of saocom  confirmed rt  falcon ’s first stage has landed at landing zone rt  liftoff cool rt  snout boops lockyer   physics is the law everything else is a recommendation if some company has solved a useful thing that we can just buy that would be great it’s… tesla germany designed amp built the vaccine rna printers for curevac but subject to some curevac ip th… feed technically james watt measured a pony added  amp rounded up haha also critical thinking alexander and the rise of hellenism and film studies wow i super loved astronomy but took it at queens not penn definitely one of my favorite class… yeah he sent it to me through a mutual physics prof friend at caltechcern very ba… it’s too embarrassing just learned that my physics prof from penn is head of fermilab amp still has some of my old homework it is unfortunately common for many in academia to overweight the value of ideas amp underweight bringing… httpstcooffoojcqnv vaux    people are extremely unlikely to die of  alone if you… that amp giga berlin are why i’m headed to germany this week convers… antibody halflife for  is very short in a study that spacex did working with harvard… yeah one person at tesla out of  was hospitalized in serious condition he… httpstcounjgvlveuk some of the tests we initially tried at tesla were  false positive including some fro… nsf  not yet nsf  yes… enough people read too much into this level of detail it’s not useful for predicting the future nor can… enough critical feedback is always appreciated btw com  we can’t have a blanket pass but maybe for some events nsf  boost… aacarmack later versions of a larger device would have that potential yup aacarmack actually c although the syntax could be improved esthetically aacarmack i like c because it avoids class warfare a nightcap would probably work best pretty much com good summary conceptual telepathy rt  if you ever fantasize about having been an  engineer working in edison’s lab apply to work at ahem … starting soon “all of physics is either impossible or trivial it is impossible until you understand it and then it becomes trivial” e rutherford giant gap between experimental medical device for use only in patients with extreme medical problems amp wid… testing with shorter rvac skirt went well full length skirt test coming soon neuralink product demo in  hours webcast at raptor reached  mtf over half a million pounds of thrust at peak pressure wit… good chance something will slip but yeah sunday is intense only need  engines boring co tunnel in vegas is only a few months from being operational neuralink this month amp tesla next month spacex probably october we will have made a lot of progre… soon they’re quite accurate that number sure comes up a lot i’m fine with reasonable drone footage just needs to be at a fair distance amp not coming r… thanks to a smart and hardworking team at tesla these sure are wild times … much appreciated this was a serious attack brave starhopper carried the day only so many days we were too obtuse for our own good although i think it works esthetically those are foldedover c… but actually nothing was surprised to hear they’re across the road adding silicon to carbon anode… nothing then they leave the house and hardly ever call their parents the big bang started very very smol asimov was should we believe things proportionate to the evidence that they are true yes olde skoole analog synthesizer from ancient britain was just there amp weather was calm sure hope it stays that way tesla brake lights are powered by a miniverse inside a microverse exactly no we’re focused on developing new products amp scaling production yes will show  still far from lasik but could get pretty close in a few years lengthy background on neuralink by live webcast of working  devicefriday  pacific httpstcopoulbrgzfu feed astronaughty sci no sci mars is easier than the moon for propellant production could get… sci starship propellant is  oxygen so an  plant on the moon would be enou… now i want candy sci there’s a lot of frozen  amp  on mars heating the planet will densify the atmosphere it’s solvable sci perhaps one day there will be an ocean on the northern part of mars it’s almost working reliably very different computers are needed for training vs inference fsd is mostly  but dojo is… not exactly gpus for nn lots of cores optimized for dot products with fast local memory amp sup… addicted  no amp not possible at this scale orbital launch mount yeah occasional flights from land are ok but frequent daily flights probably need    m… sure on it i tried to warn them but they just dug their own grave twice as fast whkg with high cycle life produced in volume not just a lab is not far probably  to  years starshipsuper heavy which is  mass of zenit will mostly launch from ocean spaceports longterm rt  tesla model  is “most satisfying” car across all ages study reveals  httpstcoxuzmulvfhf starshipsuper heavy is  bigger in mass amp volume a metaphor for life rt  power is flowing again from the grid grateful for my  powerwall and  hours of uninterrupted backup power  ht… com accurate distance calculation using only vision is fundamental other sensors can help but are not fundamental uh oh more fun games coming soon to ur tesla httpstcozbdygouhsz httpstcohkpwjnxsfc strikes again sorry noise reduction has gotten much better recently amp will continue to improve hardcore techno aber vielleicht ein bisschen fahrstuhlmusik auf der toilette new tesla feature coming that enables your car to play snake jazz or polynesian elevator music through its outside speakers wherever you go hopefully we have achieved ai symbiosis by then or a selfperpetuating autocracy based on a farcical aquatic ceremony where the king is chosen by a wise panzer in a lake direct democracy short comprehensible laws voted on directly by the people snake jazz it’s quite hard for us to write the software needed to cover basic car functionality but maybe we c… sounds like simon amp garfunkel lyrics bureaucracy is inherently kafkaesque com dankeschön brandenburg amp grünheide true medical check is aok he might run for president in not having long chain hydrocarbons amp lowering preburner combustion temperature make a big difference ai com yes ai com yes ai com absolutely needs liquid cooling we’re applying our experience… that’s an error in canada the lease payment is specifically lower than loan financing as tesla expec… we will push for ten flights with starlink almost never need to replace whole engine but some individual parts like… mostly for employees but we’ll support public access whenever it’s… absolutely i don’t want be cavalier but there isn’t an obvious limit  flights are possi… i’ve been working in boca since sunday august heat amp humidity in south texas is int… ai com dojo  isn’t done yet about a year away not just about the chips power… httpstcotsbttiduhj stve scorcher vi yes elevator music is underrated it’s counterintuitive but raptor has so much thrust at h… rt  big updates in  – transcanada supercharging  – model y deliveries  – leasing for model y amp model  httpstcogyfbe… payload reduction due to reusability of booster amp fairing is  for  amp recovery amp refurb is … yes it will have huge nuts haha we really need a bigger one so adults can squeeze in too guaranteed to make a party more fun works well with flamethrowers my favorite is one in tension other dof in compression new roadster w… yes aloha welcome back from space yeah will post shortly mitka  winning “worst person i’ve ever worked with” is not easy some real champions are vying for that title fairing chute control amp ship control are closing the loop locally both operating on spacex autopilot ms tree catches fairing in her net rt  falcon ’s first stage has landed on the of course i still love you droneship – first time a booster has completed six flights… up there somewhere cruising through deep space httpstcopcybhfpuad must be aliens yes this little spit of dirt will take us to mars humans are swiftly becoming a small percentage of total compute max demonstrated raptor thrust is  tons amp min is  tons so they’re actually… that’s engine sn we’re building  of the ship is about to be tested amp has several upgrades over  bar engine for reference  bar on r… raptor engine just reached  bar chamber pressure without exploding httpstcokvkrwksvab yeah starship will be a tiny dot at  hard to see with naked eye we’ll do lots of flights very impressive render note legs will be bigger amp there’… sci this might sting a little … the “early investor” part of tesla is wrong that bs has been pushed by eberhard worst person i’ve ever… sci also there could be long period comets that intersect earth right now we just haven’t observed the… httpstcomezrzcnewo sci pretty much cybertruck option package wow buddies  my buttontwiddling makes no sense at all you got it that’s a great one “tanks  the memery”  panzer of the lake some big milestones coming up africa is big bold move sir bold move thank you tesla is most honored very real possibility please trash me on wikipedia i’m begging you history is written by the victors … except on wikipedia haha cover of barbie girl yes probably more accurate to say great filters plural yes it’s called cyber girl we must pass the great filter sounds right rami   seriously elon crysis rocks a truly useful exaflop at de facto feed metal has a fudgelike consistency near its melting point so you can just smoosh it together feed this is how we make falcon enough  this is out of our hands so hard to predict maybe on order of  billion km of re… yes hasty govt enough   a lot of work remains technically we have it working in… enough   dojo is still being built maybe a year or so from enough   autopilot was trapped in a local maximum labeling single camera images uncorrelate… enough   your insights over the years have been excellent that’s approximately right absolutely but it doesn’t seem that govt can move fast enough ok it will blow ur mind haha our main engineering locations are palo alto austin amp seattle but working remotely is acceptable for exceptional candidates i want to do electric vtol supersonic sooo bad but my brain will overload sci asteroid impact risk is well understood but not comets those worry me great mission patch design truth haha true yup exactly also definitely coming haha will only be on relatively recent cars… sorry this is embarrassingly late two factor authentication via sms or a… bennettm  yes we’re labeling bumps amp potholes so the car can slow down or steer around them when safe to do so not perfectly at first but yes will take maybe a year or so to get really good at… this is what i meant by “” the fsd improvement will come as a quantum leap because it’s a fundamental architectural rewrite… tesla is developing a nn training computer called dojo to process truly vast amounts of video data it’s a beast p… more software improvements coming significant improvements coming to sx air suspension soon via software update will simultaneously… iron nickel chrome aluminum not necessarily in that order will matter far m… httpstcoiaqicetdoa what are the odds … the rate of improvement from original gpt to  is impressive if this rate of improvement… tesla team is working hard on increasing powerwall production rt  news  amp  are targeting no earlier than oct  for crew dragon’s first operational mission to the s… impressive psyche yes integrated with the tip of the nose this is important probably not faster than utility power can be restored powerwallpowerpackmegapack can certainly… starship fairing wil… you are correct this is a substantial underpayment compared to what ula has received so why is this madness acceptable for boeinglockheed rockets nobody would suggest buying airplanes that only fly once amp then crash into the ocean that would be absurd … com i generally try my best not to be on patents efficiently reusable rockets are all that matter for making life multiplanetary amp “space power” becau… will be amazing to see it in operation biggest casting machine ever made will make rear body in a… sorry to hear this what can we do to help no surprise aiming to make it super fun a little toastier each flight same hex tiles slightly different mounting method need bigger sections of tiles to see how they hold up… httpstcoxniptypahf will be new alloy test tank taken to burst pressure  will have body flaps amp nosecone sn  amp  at starship production complex in texas goldberg  one day soon i will wear this outfit goldberg  i was trying to channel herb tarlek from wkrp goldberg  note the fabulous plaid jacket amp gingham shirt combo twin peaks working on my mom’s cousin’s farm in saskatchewan at age  i think we did a barnraising that day not sure yet but hopefully will need leg amp other repairs probably  flies before  we need… clearly rt  spot the tiny humans this shot really puts it into scale a full blown starship and superheavy will be hard to fat… also true over time since we give all employees shares my ownership is diluted automatically from… rt  videos like this will always amaze meastronomer jan koet captured this video in  of saturn appearing behind t… i wonder if he reads his twitter feed and why aim your attacks at tesla when we’re doing more than any other company on earth to advance… that bs was pushed by oil amp gas interests to distract people from the  trillion per year they re… good analysis he also includes a govt loan for high efficiency vehicles that tesla paid b… max  yeah full name of engine is velociraptor or raptor for short max  haha good catch booster will have fixed legs that add  in height max  i think we can get velociraptor tw on par with merlin latter also s… it will look crazy tall with booster amp fairing at    ft ok apart from failing to quarantine elderlyatrisk people early a mistake they recognize they were right good piece on giga berlin construction this seems increasingly likely rt  falcon ’s first stage has landed on the of course i still love you droneship this is gonna be great rt  looking up in model y rt  starship takes flight we’ll do several short hops to smooth out launch process then go high altitude with body flaps soon legs will be  longer  legs will be much wider amp taller — like falcon bu… progress is accelerating rt  launch starship  has launched on a  meter test hop at spacex boca chicaunder the power of raptor   h… exactly mars is looking real possible flight in  mins most likely true highly likely down the road true fact scrubbed for the day a raptor turbopump spin start valve didn’t open triggering an automatic abo… httpstcoqddlnxfgjg i’m in the boca control room hop attempt in  minutes rt  “we are going to go to the moon we are going to have a base on the moon we are going to send people to mars and make… for sure feed tbh i must confess to occasionally pontificating about highconcept things feed pretty much nosecone closing is recommended but not required for safe entry when space travel becomes as common as air travel the future of civilization will be assured rt  to anybody who has touched endeavour you should take a moment to just cherish this day touching words from doug as … space is the new air rt  live an update on todays  dragon endeavour splashdown returning  amp doug home to earth hear from … rt  update postspacex crew dragon  splashdown news conference no earlier than  et watch live httpstcoqpe… congratulations  amp  on completing first crewed dragon flight  returned rt  webcast of crew dragon’s return to earth from the station with  and doug  httpstcobjfjlczwdk h… rt  good splashdown of dragon confirmed welcome back to earth  and doug dragon is stable in the water acquisition of signal expected in  mins mins to dragon loss of signal due to atmospheric entry plasma dragon will travel from south of new zealand to florida in  minutes coming in hot astronauts land in  hours rt  crew dragon’s flight back to earth with  and doug remains on track targeting splashdown off the coast of p… however we did prove that a superdraco landing could work by doing a propulsive hover all correct parachutes were originally the backup landing system with superdraco thruster… station  doug great game win working on it rt crew doug amp  will spend one more night in space prior to returning to their homeland earthwhile as… rt  the view from inside the  dragon endeavour as  amp doug monitor their departure from station ht… rt  separation confirmed dragon performing  departure burns to move away from the station rt  crew dragon will depart the station with  and doug in about  hours and splash down off the coast of… the simplest solution is not necessarily the most satisfying rt  tesla autopilot accidents  out of  miles us average  out of \\xa0miles rt  tesla  vehicle safety report httpstcoxxvcwmrtws absolutely longlasting art is incredibly difficult this bbc article provides a sensible summary for how it was done rt  news teams from  and  remain go with plans to bring doug and  home to earth on sunday… rt  theyre coming home on aug  astronauts  and doug will depart the station on s crew dra… the great pyramid was the tallest structure made by humans for  years three thousand eight hundred years rt crew  and  remain go with plans to bring doug and  home to earth this weekend teams will c… so true ramses ii was aliens built the pyramids obv ancient egypt had an incredible esthetic that stands to this day feed witch logic feed things we take for granted like flying would have had you burned at the stake for witchcraft not that long ago feed engineering is magic made real lo que construimos cool starship  just completed full duration static fire  hop soon eclipse of the heart skeptic not that i’m aware of skeptic yes could also extend range of hearing beyond normal frequencies and amplitudes deus ex skeptic neuralinks are currently meant for mature brains amp functionality is lost if remo… skeptic yes should be possible to create a neural shunt from motor cortex to microcontrollers in… httpstcohppvgjfhms skeptic will show neurons firing in realtime on august  the matrix in the matrix skeptic they don’t fire all at once some go several seconds to minutes without firing some fire several ti… lsp congrats on a great launch but sometimes when we touch …httpstcokmassjctix adagio for strings is great losing it mein herz brennt best boss battle song ever robot heart is one of the all time best sure sure could use a good ravewhat’s your favorite techno i … i just died in your arms tonight the rumor that bill gates amp i are lovers is completely untrue yeah display will also soon render teslas specifically as their model amp color instead of… we’ve been working on this for about  years originally meant for rabies vaccine but it… billy g is not my lover sounds like he doesn’t realize tesla makes the vaccine machine for curevac thanks for letting me know will dig into it sum gt parts should add a few miles of range more in slow traffic aw   the government has the most money by far they talk in trillions haha no one can ever have our top secret fart technology lopezxx  sure tesla is open to licensing software and supplying powertrains amp batteries we’re just trying to accelera… aw   what he doesn’t appear to appreciate is that government is just a monopolist corporation in the limit agreed haha ryan  it’s a prototype of the color and to think i used to like bernie maybe he’s feeling the bern haha fuel spin valve didn’t open will fix amp try again tomorrow also some odd tvc hydraulic pump behavior i was just out at the launch pad connector damaged in the storm but fixed now might be able to… whether commercial or government monopolies are bad for the people sounds great nafnlaus  haha das kapital in a nutshell what i like most is their great sense of humor the left is losing the middle exactly hold my beer once an onion now a rose wow you think about me a lot you dropped this haha rt  pick up the energetic wallpapers and charge your everyday adventure httpstcohotdtlpdpw giga berlin will come together at an impossibleseeming speed the prefabricated construction method… almost a decade ago original dragon in background ya just can’t beat br planet claire is fair point will discuss with team he was amazing great song model  nickel is the biggest challenge for highvolume longrange batteries australia amp ca… that’s me haha this has a lot of potential lithium is pretty much everywhere whoa cool has to be blue steel we need high brinell hardness amp high corrosion resistance because of cybertruck’s faceted… i really want to do this will be great fun could be both la and austin turning them into shade for an outdoor restaurant here in boca cool teslaphx    benton  yes teslaphx    benton  not impossible those were the days rt  httpstcoemkzcfgarz rt  new video  why tesla model y is their most important car ring of fire i know congratulations to the people of bolivia the song i whistle most is strangers in the night some of whom seriously think tesla toppled the bolivian govt sigh great song haha thanks kara for sure yeah we’re hunkering down here until the hurricane passes morenos  exactly cool model  review by tesla will add a power lift gate at no cost agreed hydrogen fool sells make no sense pronouns suck also we get our lithium from australia yeah would have been way better just to send everyone i bet no one on  twitter even has a guillotine poseurs … feed slow drag on cigarette facebook haven’t heard that name in years … twitter sucks something like that if politicians could legislate wealth everyone would be a trillionaire these are jammed to gills with special interests earmarks if we do a stimulus at all it should just be direct payments to consumers pretty much goal of government should be to maximize the happiness of the people giving each person money allows them to decid… httpstcolwfxhvksjf as a reminder i’m in favor of universal basic income another government stimulus package is not in the best interests of the people imo tesla solar panels are thank you on behalf of the tesla team we look forward to building giga texas competition ensures companies work hard to serve the needs of their customers something fun is coming could be great that’s a great idea we are actually looking for revolutionary actuaries for tesla insurance please inquire if interested tbh we are just a bit less foolish than before rt crew while in orbit astronauts  and doug performed a habitability assessment of the  crew drago… retail investors like  are remarkably insightful also especially for boost stage which is volumetrically constrained  is way better than  soviet … basically our pixel size can’t emphasize this enough absolutely haha agreed my oven keeps asking for my wifi password it’s not gonna get it impressive  mars rover mission launched by china today rt future good article similar problem with us data good point you don’t have a soul you are a soul adding people in next version minutes later … just another day in individualized mass transit is the future no best to have people seated for safety amp speed of travel coming soon human overseen at first then fully selfdriving can’t say but it involves a this one stings where are the memes send in … the memes … we need to finish upgrading autopilot to  vs  then it will go up very steep slopes nothing has gaslit more people than the movie gaslight well said brian williams great shot rt  videos of yesterday’s catch of both fairing halves httpstcoyztdfzlull sometimes that’s how i feel too will attempt to fly later this week myneni    sound amp flame color will be quite different yes we’re rapidly changing alloy constituents amp forming methods so traditional names like … at some point we should probably do advertising as artcommunicationentertainment amp to support high quality media rt  watch falcon  launch anasisii  httpstcobjfjlczwdk  httpstcoiyhjznzobv das baby kann noch keinen löffel benutzen aacarmack it’s almost right aacarmack we talked about an hour ago he seems fine aacarmack vr twitter with avatars saying the mentions better to put the money into the product than sales amp marketing we should bring life to mars both fairing halves caught from space by  ships rt  falcon ’s first stage has landed on the just read the instructions droneship httpstcofpbckyfysh nice work spacex team doug  still long way to go reuse only matters to degree that it’s rapid amp complete too long since we were last there launch in  mins in a few months in production release already does that in alpha build lithium is extremely common on earth found almost everywhere congratulations mhi amp uae t   stilton new deep crimson from giga berlin is my favorite important to service very high latitudes man american but born in south africa left by myself when i was true the  model s is still a great car was driving  a few months ago and driving feel wa… rt  teslas model  received top marks from safety organizations in north america europe and australia … will discuss on wed earnings call lots to talk about yes this looks cool it has that potential good article i… it’s not really set up for tours but maybe it should station manufactured only  mins from lax some contribute more y chromosome amp mitochondria are constant except for mutations yes that is just one part of the surgery for this to scale it must be fully automated like lasik this would solve a lot of brainspine injuries amp is ultimately essential for ai symbiosis fermi was awesome he understood the right questions to ask rt bde how come hulk never loses pants yes no prior neuroscience background is required this is primarily an electricalelectronic chip designme… rt  targeting monday july  for falcon  launch of anasisii from solving highvolume highreliability lowcost production problems is especially valued if you’ve solved hard problems with phones  wearables sealing signal processing inductive charging power mgmt… many summarizes pretty much every biz school case study it’s inevitable excuse me i only sell doge will those who write the algorithms ever realize their negativity bias pretty much we better hustle with neuralink not moving fast enough thanks just stop feed gigafactory is the product even more than the car yes feed carefully hidden sure might be an indooroutdoor rave space on the roof giga berlin httpstcouxqmuvtwxf exactly this is a serious problem ratio of retirees to workers is… considering small note latch on post near base is gone amp powered ethernet wire is less obtrusive in production version httpstcoxxrxfrqhbs this thing we call “money” is just a slow lossy amp unsecure database for labor allocati… trying to set a good example haha mars needs people great work by tesla software engineering population collapse is  biggest danger to civilization after ai imo yeah will take less than a minute to order on  when it goes live starlink terminal has motors to selforient for optimal view angle no expert installer required… ok avoigt group  jbeck… exactly tesla autopilot was literally named after the term used in aviation also what about autobahn feed the strength amp perseverance of the people of tesla despite facing extreme difficulties feed playable on any tesla should do this automatically group  mass to orbit is a more accura… cute padival      wow reusability is essential a rocket that is single use is just as absurd as a single use airplane  e… wild times we’re being extra paranoid maximizing probability of successful launch is paramount welcome anytime well i do care very much about sustainability of civilization but there is some truth to the irony part haha yes in plan superchargers and public high power wall c… i think so doing range testing now number will be significantly higher than  extreme… we have reduced pricing on model y lr dual motor amp will offer a lr single moto… yes it may be able to reach  at low states of charge no as range would be unacceptably low lt  mile epa we had to increase some wire thicknesses in sx to reduce resistive heating technically… truth   … thanks that is the nearterm danger of ai i didn’t mind   was awesome mass effect  talking about sequels is amazing haha maybe he should design flag of mars feed i spoke with korolev’s family todayhe was one of the very best afshari in general we need to improve how podcasts play spqr true haha death is the loss of information earning power post augmentation would easily pay for itself if that’… httpstcobpzwersoys absolutely probably a good one to design amp engineer in germany bnd   even more ok berlin model y is the one to watch that is a revolution in automotive body engineering finally true wow ihop amp github are close best use of the term “full stack” for sure this is both great amp terrifying everything we’ve ever sensed or thought has been… yes sorry should hopefully be soon not actually a payout just a vesting of stock options it may never pay out as the stock can’t b… no easy way to answer this in a tweet but helping with dire brain injuries is our first priority details aug ai symbiosis while u wait there’s some of that too true it sounds so surreal but the negative propaganda is still all out there amp easy to find in social me… make sure to read ur terms amp conditions before clicking accept samwise gamgee altho dumb and dumber is progress update august']"
      ]
     },
     "execution_count": 27,
     "metadata": {},
     "output_type": "execute_result"
    }
   ],
   "source": [
    "sentences"
   ]
  },
  {
   "cell_type": "code",
   "execution_count": null,
   "metadata": {},
   "outputs": [],
   "source": []
  }
 ],
 "metadata": {
  "kernelspec": {
   "display_name": "Python 3",
   "language": "python",
   "name": "python3"
  },
  "language_info": {
   "codemirror_mode": {
    "name": "ipython",
    "version": 3
   },
   "file_extension": ".py",
   "mimetype": "text/x-python",
   "name": "python",
   "nbconvert_exporter": "python",
   "pygments_lexer": "ipython3",
   "version": "3.8.5"
  }
 },
 "nbformat": 4,
 "nbformat_minor": 4
}
